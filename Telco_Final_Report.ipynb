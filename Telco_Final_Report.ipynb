{
 "cells": [
  {
   "cell_type": "markdown",
   "id": "7d26fe34-c9c8-4c36-bb96-4b3e6e7efd18",
   "metadata": {},
   "source": [
    "# Reducing Customer Churn at Telco\n",
    "\n",
    "---"
   ]
  },
  {
   "cell_type": "markdown",
   "id": "96a7e1af-8733-46b6-ac92-8b135214c544",
   "metadata": {},
   "source": [
    "## Project Goals\n",
    "\n",
    "The goal of this project is to identify drivers of customer churn at Telco, produce a prediction model to identify \n",
    "which customers are at the highest risk of churning, and offer a recommendation for reducing customer churn.\n",
    "\n",
    "---"
   ]
  },
  {
   "cell_type": "markdown",
   "id": "39af166e-cb5e-4049-89af-350d6d0e1b4b",
   "metadata": {},
   "source": [
    "## Project Description\n",
    "\n",
    "Telco customers are churning at an unacceptably high rate which is affecting the company's bottom line. Retaining\n",
    "existing customers costs far less than signing new customers. As such we want to reduce churn in order to help\n",
    "the Telco's bottom line rather than relying on signing new customers to make up the difference. We will compare\n",
    "and contrast customers who have churned versus those who haven't to determine the attributes that are driving \n",
    "customers to churn. We will produce a prediction model to help identify the customers that are at the highest risk \n",
    "of churning and we will provide a list of customers who are likely to churn (provided in predictions.csv). Finally, \n",
    "we will offer a recommended course of action to help promote customer retention.\n",
    "\n",
    "---"
   ]
  },
  {
   "cell_type": "markdown",
   "id": "b6931e52-961f-47e6-bef4-aae9e1d2b6b3",
   "metadata": {},
   "source": [
    "## Importing the Required Modules\n",
    "\n",
    "Everything we need to run the code blocks in this report are located in the util folder.\n",
    "To run the code blocks in this report you will need numpy, pandas, matplotlib, seaborn and sklearn installed on your computer."
   ]
  },
  {
   "cell_type": "code",
   "execution_count": 1,
   "id": "e8accf43-6811-44f7-a8dd-fd3e7174d05b",
   "metadata": {},
   "outputs": [],
   "source": [
    "# Here we are importing all the functions we need to execute the code blocks in this report.\n",
    "\n",
    "from util.acquire import get_telco_data\n",
    "from util.prepare import prep_telco_data, split_data\n",
    "\n",
    "# We would like to ignore any warnings provided by the libraries we use for presentation purposes.\n",
    "import warnings\n",
    "warnings.filterwarnings(\"ignore\")"
   ]
  },
  {
   "cell_type": "markdown",
   "id": "b2b957dc-a82e-4f1c-ad45-404e0c1291c8",
   "metadata": {},
   "source": [
    "---\n",
    "\n",
    "## Data Acquisition\n",
    "\n",
    "When running this notebook for the first time the Telco customer data will be acquired from the MySQL database hosted at data.codeup.com. This data will be saved in a file \"telco.csv\" for quicker access in the future. The \"telco.csv\" file will only be saved locally and will not be found in the Github repository."
   ]
  },
  {
   "cell_type": "code",
   "execution_count": 2,
   "id": "873f8f54-0833-4d65-8e70-3be8f1f7d901",
   "metadata": {},
   "outputs": [],
   "source": [
    "# We will now acquire the Telco customer dataset either from the MySQL database or from a .csv file\n",
    "# depending on whether or not the data has been saved.\n",
    "\n",
    "telco_customers = get_telco_data()\n",
    "# brief_summary(telco_customers)"
   ]
  },
  {
   "cell_type": "markdown",
   "id": "2e77954f-1c86-41be-a705-c85ac9bcc7b9",
   "metadata": {},
   "source": [
    "---\n",
    "\n",
    "## Data Preparation\n",
    "\n",
    "To prepare the dataset for exploratory analysis and modeling we needed to remove redundant columns and deal with missing or otherwise unusual values. Missing values could be values that are absent in one form or another and unusual values could be values that do not match the form that the majority of data in a single column follow. Redundant columns would be columns that essentially represent the same data as another column.\n",
    "\n",
    "*Missing values:* A small number of rows (11 out of 7043) were discovered to have missing values for the total charges column. These were customers who have recently signed a contract with Telco and have not had the opportunity to churn yet. It was decided that these customers could be removed from the dataset without affecting our final results.\n",
    "\n",
    "*Redundant or otherwise useless columns:* Three columns from our dataset were discovered to either hold data that would not influence customer churn or held data that was the same as another column. It was decided that these columns would be removed from the dataset since we would not need them."
   ]
  },
  {
   "cell_type": "code",
   "execution_count": 3,
   "id": "8c3328d0-77e7-46bd-8f2f-36704f42bf76",
   "metadata": {},
   "outputs": [],
   "source": [
    "# Here we prepare our dataset so that it will be ready for our exploration and modeling phases.\n",
    "\n",
    "telco_customers = prep_telco_data(telco_customers)\n",
    "# brief_summary(telco_customers)"
   ]
  },
  {
   "cell_type": "markdown",
   "id": "6494cb2b-e7c4-4dfc-b95d-2b103c4f945c",
   "metadata": {},
   "source": [
    "We split our data into three datasets: a train dataset (56% of the original data) will be used for training our machine learning models, a validate dataset (24% of the original data) will be used for comparing the performance of \n",
    "models, and a test dataset (20% of the original data) will be used as a final check to see how our best model performs on unseen data."
   ]
  },
  {
   "cell_type": "code",
   "execution_count": null,
   "id": "917bb04c-8902-4e7d-aae3-8954b69086b6",
   "metadata": {},
   "outputs": [],
   "source": [
    "# Here we split our data into train, validate and test datasets\n",
    "\n",
    "train, validate, test = split_data(telco_customers)"
   ]
  }
 ],
 "metadata": {
  "kernelspec": {
   "display_name": "Python 3 (ipykernel)",
   "language": "python",
   "name": "python3"
  },
  "language_info": {
   "codemirror_mode": {
    "name": "ipython",
    "version": 3
   },
   "file_extension": ".py",
   "mimetype": "text/x-python",
   "name": "python",
   "nbconvert_exporter": "python",
   "pygments_lexer": "ipython3",
   "version": "3.9.7"
  }
 },
 "nbformat": 4,
 "nbformat_minor": 5
}
