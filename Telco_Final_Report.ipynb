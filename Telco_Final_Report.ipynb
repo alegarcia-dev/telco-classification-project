{
 "cells": [
  {
   "cell_type": "markdown",
   "id": "7d26fe34-c9c8-4c36-bb96-4b3e6e7efd18",
   "metadata": {},
   "source": [
    "# Reducing Customer Churn at Telco\n",
    "\n",
    "---"
   ]
  },
  {
   "cell_type": "markdown",
   "id": "96a7e1af-8733-46b6-ac92-8b135214c544",
   "metadata": {},
   "source": [
    "## Project Goals\n",
    "\n",
    "The goal of this project is to identify drivers of customer churn at Telco, produce a prediction model to identify \n",
    "which customers are at the highest risk of churning, and offer a recommendation for reducing customer churn.\n",
    "\n",
    "---"
   ]
  },
  {
   "cell_type": "markdown",
   "id": "39af166e-cb5e-4049-89af-350d6d0e1b4b",
   "metadata": {},
   "source": [
    "## Project Description\n",
    "\n",
    "Telco customers are churning at an unacceptably high rate which is affecting the company's bottom line. Retaining\n",
    "existing customers costs far less than signing new customers. As such we want to reduce churn in order to help\n",
    "Telco's bottom line rather than relying on signing new customers to make up the difference. We will compare\n",
    "and contrast customers who have churned versus those who haven't to determine the attributes that are driving \n",
    "customers to churn. We will produce a prediction model to help identify the customers that are at the highest risk \n",
    "of churning and we will provide a list of customers who are likely to churn (provided in predictions.csv). Finally, \n",
    "we will offer a recommended course of action to help promote customer retention.\n",
    "\n",
    "---"
   ]
  },
  {
   "cell_type": "markdown",
   "id": "eb0bb624-f3d1-45f4-9bbb-1496aee176ad",
   "metadata": {},
   "source": [
    "## Initial Questions\n",
    "\n",
    "Before beginning a few initial questions were formulated from an initial high level overview of the data available. Here are the questions that this project aimed to answer:\n",
    "\n",
    "- Are customers who have been with Telco a longer time less likely to churn?\n",
    "- Do customers with high monthly charges churn more frequently?\n",
    "- Are customers on a month to month contract more likely to churn?\n",
    "- Are customers with automatic payment setup less likely to churn?\n",
    "- Is there a difference in churn frequency between customers with phone service and those without?\n",
    "- Is there a relationship between customers who churn and internet service type?\n",
    "- Is there a relationship between gender and customers who churn?\n",
    "- Do customers with tech support churn less frequently?\n",
    "\n",
    "With this in mind we are now able to begin preparing and analyzing the data.\n",
    "\n",
    "---"
   ]
  },
  {
   "cell_type": "markdown",
   "id": "b6931e52-961f-47e6-bef4-aae9e1d2b6b3",
   "metadata": {},
   "source": [
    "## Importing the Required Modules\n",
    "\n",
    "Everything we need to run the code blocks in this report are located in the util folder.\n",
    "To run the code blocks in this report you will need numpy, pandas, matplotlib, seaborn and sklearn installed on your computer."
   ]
  },
  {
   "cell_type": "code",
   "execution_count": 1,
   "id": "e8accf43-6811-44f7-a8dd-fd3e7174d05b",
   "metadata": {},
   "outputs": [],
   "source": [
    "# Here we are importing all the functions we need to execute the code blocks in this report.\n",
    "\n",
    "from util.acquire import get_telco_data\n",
    "from util.prepare import prep_telco_data, split_data\n",
    "from util.explore import *\n",
    "from util.model import *\n",
    "\n",
    "# We would like to ignore any warnings provided by the libraries we use for presentation purposes.\n",
    "import warnings\n",
    "warnings.filterwarnings(\"ignore\")"
   ]
  },
  {
   "cell_type": "markdown",
   "id": "b2b957dc-a82e-4f1c-ad45-404e0c1291c8",
   "metadata": {},
   "source": [
    "---\n",
    "\n",
    "## Data Acquisition\n",
    "\n",
    "When running this notebook for the first time the Telco customer data will be acquired from the MySQL database hosted at data.codeup.com. This data will be saved in a file \"telco.csv\" for quicker access in the future. The \"telco.csv\" file will only be saved locally and will not be found in the Github repository."
   ]
  },
  {
   "cell_type": "code",
   "execution_count": 2,
   "id": "873f8f54-0833-4d65-8e70-3be8f1f7d901",
   "metadata": {},
   "outputs": [],
   "source": [
    "# We will now acquire the Telco customer dataset either from the MySQL database or from a .csv file\n",
    "# depending on whether or not the data has been saved.\n",
    "\n",
    "telco_customers = get_telco_data()"
   ]
  },
  {
   "cell_type": "markdown",
   "id": "2e77954f-1c86-41be-a705-c85ac9bcc7b9",
   "metadata": {},
   "source": [
    "---\n",
    "\n",
    "## Data Preparation\n",
    "\n",
    "To prepare the dataset for exploratory analysis and modeling we needed to remove redundant columns and deal with missing or otherwise unusual values. Missing values could be values that are absent in one form or another and unusual values could be values that do not match the form that the majority of data in a single column follow. Redundant columns would be columns that essentially represent the same data as another column.\n",
    "\n",
    "*Missing values:* A small number of rows (11 out of 7043) were discovered to have missing values for the total charges column. These were customers who have recently signed a contract with Telco and have not had the opportunity to churn yet. It was decided that these customers could be removed from the dataset without affecting our final results.\n",
    "\n",
    "*Redundant or otherwise useless columns:* Three columns from our dataset were discovered to either hold data that would not influence customer churn or held data that was the same as another column. It was decided that these columns would be removed from the dataset since we would not need them."
   ]
  },
  {
   "cell_type": "code",
   "execution_count": 3,
   "id": "8c3328d0-77e7-46bd-8f2f-36704f42bf76",
   "metadata": {},
   "outputs": [],
   "source": [
    "# Here we prepare our dataset so that it will be ready for our exploration and modeling phases.\n",
    "\n",
    "telco_customers = prep_telco_data(telco_customers)"
   ]
  },
  {
   "cell_type": "markdown",
   "id": "6494cb2b-e7c4-4dfc-b95d-2b103c4f945c",
   "metadata": {},
   "source": [
    "We split our data into three datasets: a train dataset (56% of the original data) will be used for training our machine learning models, a validate dataset (24% of the original data) will be used for comparing the performance of \n",
    "models, and a test dataset (20% of the original data) will be used as a final check to see how our best model performs on unseen data."
   ]
  },
  {
   "cell_type": "code",
   "execution_count": 4,
   "id": "917bb04c-8902-4e7d-aae3-8954b69086b6",
   "metadata": {},
   "outputs": [],
   "source": [
    "# Here we split our data into train, validate and test datasets\n",
    "\n",
    "train, validate, test = split_data(telco_customers, stratify = 'churn')"
   ]
  },
  {
   "cell_type": "markdown",
   "id": "f8f2e9b8-9c76-4b3f-9dba-8c420cb14635",
   "metadata": {},
   "source": [
    "**Important Note: The validate and test datasets are meant to serve as out of sample data. We only use the validate set to compare our machine learning models and we don't use the test set until we have chosen our best model.**"
   ]
  },
  {
   "cell_type": "markdown",
   "id": "d5df268f-8673-4ace-97ca-7e71a11dfa1e",
   "metadata": {},
   "source": [
    "---\n",
    "\n",
    "## Exploratory Analysis\n",
    "\n",
    "With the data prepared we were able to explore the data in order to identify drivers of churn. This was done in four steps:\n",
    "\n",
    "1. Univariate analysis to identify any groups of customers that make up a large proportion of the whole.\n",
    "2. Bivariate analysis to visualize how various features compare to the group of customers that have churned.\n",
    "3. Multivariate analysis to visualize how the most likely drivers of churn relate to each other.\n",
    "4. Statistical tests to determine if the features identified as being our most likely drivers of churn are valid choices.\n",
    "\n",
    "**Important Note: In exploratory analysis we only analyze the train dataset to maintain the integrity of our work.**"
   ]
  },
  {
   "cell_type": "markdown",
   "id": "43c99017-2717-4edb-9acd-25fc57ed0cd4",
   "metadata": {},
   "source": [
    "In the following chart we see the distribution of customers in our data separated into two groups: customers that haven't churned and customers that have churned."
   ]
  },
  {
   "cell_type": "code",
   "execution_count": 5,
   "id": "5d8ace75-b119-4a55-9ae2-c7d3785a116a",
   "metadata": {},
   "outputs": [
    {
     "data": {
      "image/png": "[encoded data removed]",
      "text/plain": [
       "<Figure size 432x288 with 1 Axes>"
      ]
     },
     "metadata": {
      "needs_background": "light"
     },
     "output_type": "display_data"
    }
   ],
   "source": [
    "# Here we visualize the distribution of the churn feature in our data.\n",
    "distribution_of_customer_churn(train)"
   ]
  },
  {
   "cell_type": "markdown",
   "id": "8c44ad35-d343-45a1-b9a0-eec17304e215",
   "metadata": {},
   "source": [
    "It was discovered when analyzing the data that the vast majority of customers that churn are on the month to month contract. The following chart displays this finding by showing the distribution of customers who have churned versus those that haven't churned separated by the type of contract the customer has."
   ]
  },
  {
   "cell_type": "code",
   "execution_count": 6,
   "id": "ebd82155-bfe3-441c-ba66-417cebd560f9",
   "metadata": {},
   "outputs": [
    {
     "data": {
      "image/png": "[encoded data removed]",
      "text/plain": [
       "<Figure size 432x288 with 1 Axes>"
      ]
     },
     "metadata": {
      "needs_background": "light"
     },
     "output_type": "display_data"
    }
   ],
   "source": [
    "# Here we visualize the distribution of contract types separated by whether or not a customer has churned.\n",
    "visualize_churn_rate_versus_contract_type(train)"
   ]
  },
  {
   "cell_type": "markdown",
   "id": "001fc986-be46-41bb-af1f-43052189074a",
   "metadata": {},
   "source": [
    "It was also discovered that a large number of customers that churn do not have tech support. In the following chart we see the distribution of customers with or without tech support versus whether or not they churned."
   ]
  },
  {
   "cell_type": "code",
   "execution_count": 7,
   "id": "bff0a3d0-bbf0-4252-9743-8c855d7a3a81",
   "metadata": {},
   "outputs": [
    {
     "data": {
      "image/png": "[encoded data removed]",
      "text/plain": [
       "<Figure size 432x288 with 1 Axes>"
      ]
     },
     "metadata": {
      "needs_background": "light"
     },
     "output_type": "display_data"
    }
   ],
   "source": [
    "# Here we visualize the distribution of payment types separated by whether or not a customer has churned.\n",
    "visualize_churn_rate_versus_tech_support(train)"
   ]
  },
  {
   "cell_type": "markdown",
   "id": "56fd0645-7e39-44cc-8353-e8af08a4beb1",
   "metadata": {},
   "source": [
    "When looking at the tenure feature it was discovered that a large number of customers that churn have low tenure. The following chart shows the distribution of customers who have churned versus those that haven't separated by tenure."
   ]
  },
  {
   "cell_type": "code",
   "execution_count": 8,
   "id": "677ddf56-4e21-4b01-b108-e27c39100e00",
   "metadata": {},
   "outputs": [
    {
     "data": {
      "image/png": "[encoded data removed]",
      "text/plain": [
       "<Figure size 432x288 with 1 Axes>"
      ]
     },
     "metadata": {
      "needs_background": "light"
     },
     "output_type": "display_data"
    }
   ],
   "source": [
    "# Here we visualize the distribution of tenure separated by whether or not a customer has churned.\n",
    "visualize_churn_rate_versus_tenure(train)"
   ]
  },
  {
   "cell_type": "markdown",
   "id": "497af45b-57e4-4337-a0a4-109fcf1e6a56",
   "metadata": {},
   "source": [
    "Lastly we found that a large proporation of customers that are churning are doing so in the first 24 months of service and most of these customers have high monthly charges. This last visualization shows the monthly charges of customers that have churned and have less than or equal to 24 months of tenure."
   ]
  },
  {
   "cell_type": "code",
   "execution_count": 9,
   "id": "a312a342-7802-4f16-97bd-bf1b34542b02",
   "metadata": {},
   "outputs": [
    {
     "name": "stdout",
     "output_type": "stream",
     "text": [
      "Tenure less than or equal to 24, percentage of churn pop.: 71.89%\n"
     ]
    },
    {
     "data": {
      "image/png": "[encoded data removed]",
      "text/plain": [
       "<Figure size 432x288 with 1 Axes>"
      ]
     },
     "metadata": {
      "needs_background": "light"
     },
     "output_type": "display_data"
    }
   ],
   "source": [
    "# Here we visualize the monthly charges of customers that have churned and have less than or equal\n",
    "# to 24 months of tenure.\n",
    "visualize_monthly_charges_versus_tenure(train)"
   ]
  },
  {
   "cell_type": "markdown",
   "id": "41b0ecd7-82aa-4a1a-94cf-b8c97fae03bf",
   "metadata": {},
   "source": [
    "This then led us to ask the following questions about our data:\n",
    "- Do customers that churn have higher monthly charges on average than customers that don't churn?\n",
    "- Do customers that churn have less tenure on average than customers that don't churn?\n",
    "- Does the contract type a customer has have any association with whether or not they will churn?\n",
    "- Does whether or not a customer has tech support have any association with whether or not they will churn?\n",
    "\n",
    "We formally address these questions in the form of statistical hypotheses and test the validity of these assertions through the use of statistical tests below."
   ]
  },
  {
   "cell_type": "markdown",
   "id": "946be998-d7e6-46b3-9f96-7041fcd80ca8",
   "metadata": {},
   "source": [
    "Here we address the first question about monthly charges:\n",
    "\n",
    "> $H_0$: The mean monthly charges of customers that churn is less than or equal to the mean monthly charges of customers that do not churn.\n",
    "> <br>\n",
    "> $H_a$: The mean monthly charges of customers that churn is greater than the mean monthly charges of customers that do not churn."
   ]
  },
  {
   "cell_type": "code",
   "execution_count": 10,
   "id": "dab8fce9-ead7-47fe-8c26-b027f23e993c",
   "metadata": {},
   "outputs": [
    {
     "name": "stdout",
     "output_type": "stream",
     "text": [
      "\n",
      "Reject H0\n"
     ]
    }
   ],
   "source": [
    "# Here we will perform a two sample t-test where one sample is the monthly charges of customers that churn and the\n",
    "# other sample is the monthly charges of customers that do not churn. For the details of how this test is performed\n",
    "# refer to the explore.py file in the util directory.\n",
    "\n",
    "perform_two_sample_ttest_on_monthly_charges(train)"
   ]
  },
  {
   "cell_type": "markdown",
   "id": "c0fb4eeb-6849-4b54-8206-7df0464d484d",
   "metadata": {},
   "source": [
    "The result is to reject the null hypothesis that the mean monthly charges of customers that churn is less than or equal to the mean monthly charges of customers that do not churn. This means that we are justified in asking if customers that churn have higher monthly charges on average than those that don't.\n",
    "\n",
    "Now we will address the second question about tenure:\n",
    "\n",
    "> $H_0$: Customers that churn do not have less tenure on average than customers that don't churn.\n",
    "> <br>\n",
    "> $H_a$: Customers that churn have less tenure on average than customers that don't churn."
   ]
  },
  {
   "cell_type": "code",
   "execution_count": 11,
   "id": "bf0dcb54-cce1-4c63-bc49-5d885b3eae74",
   "metadata": {},
   "outputs": [
    {
     "name": "stdout",
     "output_type": "stream",
     "text": [
      "\n",
      "Reject H0\n"
     ]
    }
   ],
   "source": [
    "# Here we will perform a two sample t-test where one sample is the tenure of customers that churn and the\n",
    "# other sample is the tenure of customers that do not churn. For the details of how this test is performed\n",
    "# refer to the explore.py file in the util directory.\n",
    "\n",
    "perform_two_sample_ttest_on_tenure(train)"
   ]
  },
  {
   "cell_type": "markdown",
   "id": "f57c62f8-1a2e-4c67-8353-05c3e741abf7",
   "metadata": {},
   "source": [
    "The result is to reject the null hypothesis that the mean tenure of customers that churn is not less than the mean monthly charges of customers that do not churn. This means that we are justified in asking if customers that churn have lower tenure on average than those that don't.\n",
    "\n",
    "Next we will address the third question about contract type:\n",
    "\n",
    "> $H_0$: There is no association between churn and contract type.\n",
    "> <br>\n",
    "> $H_a$: There is an association between churn and contract type."
   ]
  },
  {
   "cell_type": "code",
   "execution_count": 12,
   "id": "67f3218c-bce5-4c21-9b5f-9263151d5070",
   "metadata": {},
   "outputs": [
    {
     "name": "stdout",
     "output_type": "stream",
     "text": [
      "\n",
      "Reject H0\n"
     ]
    }
   ],
   "source": [
    "# Here we will perform a chi2 test where we compare the churn and contract_type features. For the details of \n",
    "# how this test is performed refer to the explore.py file in the util directory.\n",
    "\n",
    "perform_chi2_test_on_contract_type(train)"
   ]
  },
  {
   "cell_type": "markdown",
   "id": "adc4513c-239c-4075-bf64-d1e55c0efa00",
   "metadata": {},
   "source": [
    "The result is to reject the null hypothesis that there is no association between a customer's contract type and whether or not they churn. This means that we are justified in asking if a customer's contract type can be an indicator of whether or not they may churn.\n",
    "\n",
    "Finally we address the fourth question about payment type:\n",
    "\n",
    "> $H_0$: There is no association between churn and whether or not a customer has tech support.\n",
    "> <br>\n",
    "> $H_a$: There is an association between churn and whether or not a customer has tech support."
   ]
  },
  {
   "cell_type": "code",
   "execution_count": 13,
   "id": "031d968d-19cb-48cb-90f7-67463e7587fd",
   "metadata": {},
   "outputs": [
    {
     "name": "stdout",
     "output_type": "stream",
     "text": [
      "\n",
      "Reject H0\n"
     ]
    }
   ],
   "source": [
    "# Here we will perform a chi2 test where we compare the churn and tech_support features. For the details of \n",
    "# how this test is performed refer to the explore.py file in the util directory.\n",
    "\n",
    "perform_chi2_test_on_tech_support(train)"
   ]
  },
  {
   "cell_type": "markdown",
   "id": "40dd930e-c392-46a6-94ae-205bbe7a9a98",
   "metadata": {},
   "source": [
    "The result is to reject the null hypothesis that there is no association between tech support and whether or not they churn. This means that we are justified in asking if whether or not a customer has tech support can be an indicator of whether or not they may churn.\n",
    "\n",
    "With these results we identify monthly charges, tenure, contract type, and tech support as being the most likely drivers of churn. These are the features we will use to train the machine learning models."
   ]
  },
  {
   "cell_type": "markdown",
   "id": "cf7cbf09-f717-4285-b34b-993e5b6cb415",
   "metadata": {},
   "source": [
    "---\n",
    "\n",
    "## Modeling\n",
    "\n",
    "With our most likely drivers of churn identified we moved forward with creating some machine learning models that would allow us to identify customers that are likely to churn so that action can be taken to retain these customers. Three different models were created to predict customer churn and the performance of these were compared primarily by their recall scores and secondarily by there accuracy scores.\n",
    "\n",
    "We chose to focus on recall because the cost of signing new customers is greater than the cost of retaining an existing customer. As such the cost of falsely identifying a customer as not likely to churn is greater than the cost of falsely identifying a customer as likely to churn. This aligns with the goal of optimizing for recall which is to reduce missed positive cases.\n",
    "\n",
    "The three models we used were the following:\n",
    "\n",
    "1. A decision tree model\n",
    "    - The decision tree gives us a simple model that provides good results and allows us to look under the hood to understand how the predictions are made. This is later used to help formulate the recommended course of action.\n",
    "2. A random forest model\n",
    "    - The random forest gives us a more generalizable model that could potentially have better results on out of sample data than the decision tree.\n",
    "3. A k nearest neighbors model\n",
    "    - The k nearest neighbors model is simple to implement and can easily be updated over time.\n",
    "    \n",
    "Additionally a baseline model was established which predicts that all customers do not churn (since customers not churning is the most common outcome in the data). This model is used as a means of comparing whether or not our models are capable of performing better than the simplest model we can concoct.\n",
    "\n",
    "Below we visualize the performance of each model and the baseline on both the train dataset and the validate dataset.\n",
    "\n",
    "**Important Note: In modeling we do not use the test dataset to maintain the integrity of our work. Once we have chosen our best model we can measure its performance on the test dataset.**"
   ]
  },
  {
   "cell_type": "code",
   "execution_count": 14,
   "id": "9727fff9-842e-4a36-8770-e454f537fd8b",
   "metadata": {},
   "outputs": [],
   "source": [
    "# First we need to create our models. Here we will create a decision tree model, a random forest model, and a\n",
    "# k nearest neighbors model. For details refer to the model.py file in the util directory.\n",
    "models = create_models(train)"
   ]
  },
  {
   "cell_type": "code",
   "execution_count": 15,
   "id": "30a5b5dc-132a-4ac4-9406-90b84cc8edbe",
   "metadata": {},
   "outputs": [
    {
     "name": "stdout",
     "output_type": "stream",
     "text": [
      "Performance of Each Model for the Train Dataset\n"
     ]
    },
    {
     "data": {
      "text/html": [
       "<div>\n",
       "<style scoped>\n",
       "    .dataframe tbody tr th:only-of-type {\n",
       "        vertical-align: middle;\n",
       "    }\n",
       "\n",
       "    .dataframe tbody tr th {\n",
       "        vertical-align: top;\n",
       "    }\n",
       "\n",
       "    .dataframe thead th {\n",
       "        text-align: right;\n",
       "    }\n",
       "</style>\n",
       "<table border=\"1\" class=\"dataframe\">\n",
       "  <thead>\n",
       "    <tr style=\"text-align: right;\">\n",
       "      <th></th>\n",
       "      <th>accuracy</th>\n",
       "      <th>precision</th>\n",
       "      <th>recall</th>\n",
       "    </tr>\n",
       "    <tr>\n",
       "      <th>model</th>\n",
       "      <th></th>\n",
       "      <th></th>\n",
       "      <th></th>\n",
       "    </tr>\n",
       "  </thead>\n",
       "  <tbody>\n",
       "    <tr>\n",
       "      <th>Baseline</th>\n",
       "      <td>0.73</td>\n",
       "      <td>0.00</td>\n",
       "      <td>0.00</td>\n",
       "    </tr>\n",
       "    <tr>\n",
       "      <th>Decision Tree</th>\n",
       "      <td>0.79</td>\n",
       "      <td>0.60</td>\n",
       "      <td>0.61</td>\n",
       "    </tr>\n",
       "    <tr>\n",
       "      <th>Random Forest</th>\n",
       "      <td>0.80</td>\n",
       "      <td>0.68</td>\n",
       "      <td>0.44</td>\n",
       "    </tr>\n",
       "    <tr>\n",
       "      <th>K Nearest Neighbors</th>\n",
       "      <td>0.81</td>\n",
       "      <td>0.72</td>\n",
       "      <td>0.46</td>\n",
       "    </tr>\n",
       "  </tbody>\n",
       "</table>\n",
       "</div>"
      ],
      "text/plain": [
       "                     accuracy  precision  recall\n",
       "model                                           \n",
       "Baseline                 0.73       0.00    0.00\n",
       "Decision Tree            0.79       0.60    0.61\n",
       "Random Forest            0.80       0.68    0.44\n",
       "K Nearest Neighbors      0.81       0.72    0.46"
      ]
     },
     "execution_count": 15,
     "metadata": {},
     "output_type": "execute_result"
    }
   ],
   "source": [
    "# Here we will visualize the performance of our three models, and the baseline model, on our train dataset.\n",
    "# For details on how the models are implemented refer to the model.py file in the util directory.\n",
    "print('Performance of Each Model for the Train Dataset')\n",
    "visualize_performance_of_models(train, models)"
   ]
  },
  {
   "cell_type": "code",
   "execution_count": 16,
   "id": "077335b6-3fc4-4b31-a1fe-37d81ca903f5",
   "metadata": {},
   "outputs": [
    {
     "name": "stdout",
     "output_type": "stream",
     "text": [
      "Performance of Each Model for the Validate Dataset\n"
     ]
    },
    {
     "data": {
      "text/html": [
       "<div>\n",
       "<style scoped>\n",
       "    .dataframe tbody tr th:only-of-type {\n",
       "        vertical-align: middle;\n",
       "    }\n",
       "\n",
       "    .dataframe tbody tr th {\n",
       "        vertical-align: top;\n",
       "    }\n",
       "\n",
       "    .dataframe thead th {\n",
       "        text-align: right;\n",
       "    }\n",
       "</style>\n",
       "<table border=\"1\" class=\"dataframe\">\n",
       "  <thead>\n",
       "    <tr style=\"text-align: right;\">\n",
       "      <th></th>\n",
       "      <th>accuracy</th>\n",
       "      <th>precision</th>\n",
       "      <th>recall</th>\n",
       "    </tr>\n",
       "    <tr>\n",
       "      <th>model</th>\n",
       "      <th></th>\n",
       "      <th></th>\n",
       "      <th></th>\n",
       "    </tr>\n",
       "  </thead>\n",
       "  <tbody>\n",
       "    <tr>\n",
       "      <th>Baseline</th>\n",
       "      <td>0.73</td>\n",
       "      <td>0.00</td>\n",
       "      <td>0.00</td>\n",
       "    </tr>\n",
       "    <tr>\n",
       "      <th>Decision Tree</th>\n",
       "      <td>0.78</td>\n",
       "      <td>0.60</td>\n",
       "      <td>0.59</td>\n",
       "    </tr>\n",
       "    <tr>\n",
       "      <th>Random Forest</th>\n",
       "      <td>0.79</td>\n",
       "      <td>0.68</td>\n",
       "      <td>0.41</td>\n",
       "    </tr>\n",
       "    <tr>\n",
       "      <th>K Nearest Neighbors</th>\n",
       "      <td>0.78</td>\n",
       "      <td>0.66</td>\n",
       "      <td>0.38</td>\n",
       "    </tr>\n",
       "  </tbody>\n",
       "</table>\n",
       "</div>"
      ],
      "text/plain": [
       "                     accuracy  precision  recall\n",
       "model                                           \n",
       "Baseline                 0.73       0.00    0.00\n",
       "Decision Tree            0.78       0.60    0.59\n",
       "Random Forest            0.79       0.68    0.41\n",
       "K Nearest Neighbors      0.78       0.66    0.38"
      ]
     },
     "execution_count": 16,
     "metadata": {},
     "output_type": "execute_result"
    }
   ],
   "source": [
    "# Next we will visualize the performance of our models on the validate dataset to compare the models on a\n",
    "# theoretically out of sample dataset.\n",
    "print('Performance of Each Model for the Validate Dataset')\n",
    "visualize_performance_of_models(validate, models)"
   ]
  },
  {
   "cell_type": "markdown",
   "id": "4de553d1-4327-4338-adc7-4d9e0c30fe7b",
   "metadata": {},
   "source": [
    "The results above show us that in terms of our metric in focus, recall, the decision tree model has the best performance overall. Although the k nearest neighbors model performed better on the train dataset, it failed to remain consistent when we introduced our out of sample data. Additionally in terms of accuracy the decision tree model still has the best performance. With these results in mind the decision tree model is chosen as the best model and we will make our final predictions on the test dataset using this model. The results of these predictions will be saved in the predictions.csv file."
   ]
  },
  {
   "cell_type": "code",
   "execution_count": 21,
   "id": "7cb1251a-99e1-45f4-9123-3b85abe4aa06",
   "metadata": {},
   "outputs": [
    {
     "name": "stdout",
     "output_type": "stream",
     "text": [
      "Performance of the best model on unseen data\n"
     ]
    },
    {
     "data": {
      "text/html": [
       "<div>\n",
       "<style scoped>\n",
       "    .dataframe tbody tr th:only-of-type {\n",
       "        vertical-align: middle;\n",
       "    }\n",
       "\n",
       "    .dataframe tbody tr th {\n",
       "        vertical-align: top;\n",
       "    }\n",
       "\n",
       "    .dataframe thead th {\n",
       "        text-align: right;\n",
       "    }\n",
       "</style>\n",
       "<table border=\"1\" class=\"dataframe\">\n",
       "  <thead>\n",
       "    <tr style=\"text-align: right;\">\n",
       "      <th></th>\n",
       "      <th>accuracy</th>\n",
       "      <th>precision</th>\n",
       "      <th>recall</th>\n",
       "    </tr>\n",
       "    <tr>\n",
       "      <th>model</th>\n",
       "      <th></th>\n",
       "      <th></th>\n",
       "      <th></th>\n",
       "    </tr>\n",
       "  </thead>\n",
       "  <tbody>\n",
       "    <tr>\n",
       "      <th>Decision Tree</th>\n",
       "      <td>0.78</td>\n",
       "      <td>0.57</td>\n",
       "      <td>0.6</td>\n",
       "    </tr>\n",
       "  </tbody>\n",
       "</table>\n",
       "</div>"
      ],
      "text/plain": [
       "               accuracy  precision  recall\n",
       "model                                     \n",
       "Decision Tree      0.78       0.57     0.6"
      ]
     },
     "execution_count": 21,
     "metadata": {},
     "output_type": "execute_result"
    }
   ],
   "source": [
    "# Here we will visualize the performance of our model on the test dataset and write the results to the\n",
    "# predictions.csv file. We pass only the decision tree model to the function.\n",
    "print('Performance of the best model on unseen data')\n",
    "make_predictions_on_test(test, telco_customers, models['Decision Tree'])"
   ]
  },
  {
   "cell_type": "code",
   "execution_count": 18,
   "id": "ef57c202-d705-4415-9188-88dc1049c349",
   "metadata": {},
   "outputs": [
    {
     "data": {
      "image/png": "[encoded data removed]",
      "text/plain": [
       "<Figure size 432x288 with 1 Axes>"
      ]
     },
     "metadata": {},
     "output_type": "display_data"
    }
   ],
   "source": [
    "# Here we will see a pie chart of our model's performance on the test dataset\n",
    "visualize_test_performance()"
   ]
  },
  {
   "cell_type": "markdown",
   "id": "94940850-d8fb-4f28-9f46-3798fbabeee6",
   "metadata": {},
   "source": [
    "The decision tree model accurately predicted whether or not a customer would churn for 77% of the test dataset and correctly identified 60% of the customers that churned. Let's see below how this affects our churn rate."
   ]
  },
  {
   "cell_type": "code",
   "execution_count": 19,
   "id": "52b6214a-d368-419c-8744-7e7da076ba66",
   "metadata": {},
   "outputs": [
    {
     "name": "stdout",
     "output_type": "stream",
     "text": [
      "Percentage of customers in the test dataset that churned:\n",
      "26.58%\n"
     ]
    }
   ],
   "source": [
    "# Show the percentage of customers that churned\n",
    "percentage_of_customers_that_churned(test)"
   ]
  },
  {
   "cell_type": "code",
   "execution_count": 20,
   "id": "920bcaf2-828a-4c4c-acbe-d7ff7a07b4f2",
   "metadata": {},
   "outputs": [
    {
     "name": "stdout",
     "output_type": "stream",
     "text": [
      "Percentage of customers in the test dataset that churned\n",
      "with the 41% we identified not churning:\n",
      "10.52%\n"
     ]
    }
   ],
   "source": [
    "reduced_percentage(0.2658, 0.6043)"
   ]
  },
  {
   "cell_type": "markdown",
   "id": "573a8071-fcd5-4819-a590-6f14f4d14711",
   "metadata": {},
   "source": [
    "With the customers we identify as likely to churn we could potentially see a roughly 16% decrease in customer churn."
   ]
  },
  {
   "cell_type": "markdown",
   "id": "9d1381e0-f85d-4fc2-94cb-e1a1c8253497",
   "metadata": {},
   "source": [
    "---\n",
    "\n",
    "## Key Takeaways and Recommendations\n",
    "\n"
   ]
  },
  {
   "cell_type": "markdown",
   "id": "9bd56887-20cd-495c-86e4-791bd0356666",
   "metadata": {},
   "source": [
    "To conclude, with this model in production we could see as much as an 16% reduction in churn. In order to ensure this happens action must be taken. Our decision tree model allows us to look under the hood and easily interpret how the decisions are being made. For a detailed breakdown of this refer to the \"Looking Under the Hood\" section in the model.ipynb notebook in the notebooks directory.\n",
    "\n",
    "Here I will provide my recommended course of action formulated with the help of the decision tree model breakdown:\n",
    "- Customers identified as likely to churn who are on the month to month contract and have monthly charges exceeding 67 dollars should be offered an incentive to switch to a yearly contract or offered a discount on their monthly rate.\n",
    "- Customers identified as likely to churn who are not on the month to month contract should be offered a discount to reduce their monthly charges a small percentage.\n",
    "\n",
    "Given more time I would like to perform more analysis on the data to identify additional drivers of churn and fine tune the machine learning models to obtain greater accuracy."
   ]
  }
 ],
 "metadata": {
  "kernelspec": {
   "display_name": "Python 3 (ipykernel)",
   "language": "python",
   "name": "python3"
  },
  "language_info": {
   "codemirror_mode": {
    "name": "ipython",
    "version": 3
   },
   "file_extension": ".py",
   "mimetype": "text/x-python",
   "name": "python",
   "nbconvert_exporter": "python",
   "pygments_lexer": "ipython3",
   "version": "3.9.7"
  }
 },
 "nbformat": 4,
 "nbformat_minor": 5
}
