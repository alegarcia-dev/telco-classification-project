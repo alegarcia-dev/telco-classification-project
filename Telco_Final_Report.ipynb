{
 "cells": [
  {
   "cell_type": "markdown",
   "id": "7d26fe34-c9c8-4c36-bb96-4b3e6e7efd18",
   "metadata": {},
   "source": [
    "# Reducing Customer Churn at Telco\n",
    "\n",
    "---"
   ]
  },
  {
   "cell_type": "markdown",
   "id": "96a7e1af-8733-46b6-ac92-8b135214c544",
   "metadata": {},
   "source": [
    "## Project Goals\n",
    "\n",
    "The goal of this project is to identify drivers of customer churn at Telco, produce a prediction model to identify \n",
    "which customers are at the highest risk of churning, and offer a recommendation for reducing customer churn.\n",
    "\n",
    "---"
   ]
  },
  {
   "cell_type": "markdown",
   "id": "39af166e-cb5e-4049-89af-350d6d0e1b4b",
   "metadata": {},
   "source": [
    "## Project Description\n",
    "\n",
    "Telco customers are churning at an unacceptably high rate which is affecting the company's bottom line. Retaining\n",
    "existing customers costs far less than signing new customers. As such we want to reduce churn in order to help\n",
    "the Telco's bottom line rather than relying on signing new customers to make up the difference. We will compare\n",
    "and contrast customers who have churned versus those who haven't to determine the attributes that are driving \n",
    "customers to churn. We will produce a prediction model to help identify the customers that are at the highest risk \n",
    "of churning and we will provide a list of customers who are likely to churn (provided in predictions.csv). Finally, \n",
    "we will offer a recommended course of action to help promote customer retention.\n",
    "\n",
    "---"
   ]
  },
  {
   "cell_type": "markdown",
   "id": "b6931e52-961f-47e6-bef4-aae9e1d2b6b3",
   "metadata": {},
   "source": [
    "## Importing the Required Modules\n",
    "\n",
    "Everything we need to run the code blocks in this report are located in the util folder.\n",
    "To run the code blocks in this report you will need numpy, pandas, matplotlib, seaborn and sklearn installed on your computer."
   ]
  },
  {
   "cell_type": "code",
   "execution_count": 2,
   "id": "e8accf43-6811-44f7-a8dd-fd3e7174d05b",
   "metadata": {},
   "outputs": [],
   "source": [
    "# Here we are importing all the functions we need to execute the code blocks in this report.\n",
    "\n",
    "from util.acquire import get_telco_data"
   ]
  },
  {
   "cell_type": "markdown",
   "id": "b2b957dc-a82e-4f1c-ad45-404e0c1291c8",
   "metadata": {},
   "source": [
    "---\n",
    "\n",
    "## Data Acquisition\n",
    "\n",
    "When running this notebook for the first time the Telco customer data will be acquired from the MySQL database hosted at data.codeup.com. This data will be saved in a file \"telco.csv\" for quicker access in the future. The \"telco.csv\" file will only be saved locally and will not be found in the Github repository."
   ]
  },
  {
   "cell_type": "code",
   "execution_count": 3,
   "id": "873f8f54-0833-4d65-8e70-3be8f1f7d901",
   "metadata": {},
   "outputs": [],
   "source": [
    "# We will now acquire the Telco customer dataset either from the MySQL database or from a .csv file\n",
    "# depending on whether or not the data has been saved.\n",
    "\n",
    "telco_customers = get_telco_data()"
   ]
  },
  {
   "cell_type": "code",
   "execution_count": null,
   "id": "40bc99aa-af02-4c16-8bbb-f8652a6d0808",
   "metadata": {},
   "outputs": [],
   "source": []
  }
 ],
 "metadata": {
  "kernelspec": {
   "display_name": "Python 3 (ipykernel)",
   "language": "python",
   "name": "python3"
  },
  "language_info": {
   "codemirror_mode": {
    "name": "ipython",
    "version": 3
   },
   "file_extension": ".py",
   "mimetype": "text/x-python",
   "name": "python",
   "nbconvert_exporter": "python",
   "pygments_lexer": "ipython3",
   "version": "3.9.7"
  }
 },
 "nbformat": 4,
 "nbformat_minor": 5
}
