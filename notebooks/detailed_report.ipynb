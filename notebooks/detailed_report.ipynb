{
 "cells": [
  {
   "cell_type": "markdown",
   "id": "895693ea-8ddc-4869-bd4b-da14e6d8cdde",
   "metadata": {},
   "source": [
    "# Reducing Customer Churn at Telco\n",
    "\n",
    "---"
   ]
  },
  {
   "cell_type": "markdown",
   "id": "88840c78-52b1-4b11-8e93-da135b645378",
   "metadata": {},
   "source": [
    "## Project Goals\n",
    "\n",
    "The goal of this project is to identify drivers of customer churn at Telco, produce a prediction model to identify \n",
    "which customers are at the highest risk of churning, and offer a recommendation for reducing customer churn.\n",
    "\n",
    "---"
   ]
  },
  {
   "cell_type": "markdown",
   "id": "7f942113-c254-4dbf-8203-8ec3be449eaa",
   "metadata": {},
   "source": [
    "## Project Description\n",
    "\n",
    "Telco customers are churning at an unacceptably high rate which is affecting the company's bottom line. Retaining\n",
    "existing customers costs far less than signing new customers. As such we want to reduce churn in order to help\n",
    "the Telco's bottom line rather than relying on signing new customers to make up the difference. We will compare\n",
    "and contrast customers who have churned versus those who haven't to determine the attributes that are driving \n",
    "customers to churn. We will produce a prediction model to help identify the customers that are at the highest risk \n",
    "of churning and we will provide a list of customers who are likely to churn (provided in predictions.csv). Finally, \n",
    "we will offer a recommended course of action to help promote customer retention.\n",
    "\n",
    "---"
   ]
  },
  {
   "cell_type": "markdown",
   "id": "6ab77bfe-3ff6-40fc-88bf-6f8c1c1d933d",
   "metadata": {},
   "source": [
    "# Imports\n",
    "\n",
    "Below are all the imports needed to reproduce this project. This utilizes numpy, pandas, matplotlib, seaborn and sklearn. If you do not have these installed already install them now before proceeding."
   ]
  },
  {
   "cell_type": "code",
   "execution_count": 23,
   "id": "7fac73bf-39ea-451b-b113-05d86c710ee1",
   "metadata": {},
   "outputs": [],
   "source": [
    "import os\n",
    "import numpy as np\n",
    "import pandas as pd\n",
    "\n",
    "from sklearn.model_selection import train_test_split"
   ]
  },
  {
   "cell_type": "markdown",
   "id": "39ea8ec3-0105-44b1-a1d5-d6302091ad95",
   "metadata": {},
   "source": [
    "We will also be using the random seed below throughout the notebook to ensure that reproduced results are consistent."
   ]
  },
  {
   "cell_type": "code",
   "execution_count": 2,
   "id": "1c2e7585-66dd-4c44-86a0-f23b163ed53c",
   "metadata": {},
   "outputs": [],
   "source": [
    "seed = 24"
   ]
  },
  {
   "cell_type": "markdown",
   "id": "1017198d-6dd6-494e-b9d6-259c92694090",
   "metadata": {},
   "source": [
    "# Data Acquisition\n",
    "\n",
    "---\n",
    "\n",
    "## Accessing the Database\n",
    "\n",
    "Here we will outline the process for acquiring the Telco customer dataset from the MySQL database. In order to access this data you will need login credentials. Assuming you have credentials save these in a env.py file in the following form:"
   ]
  },
  {
   "cell_type": "code",
   "execution_count": 3,
   "id": "8c575bba-1ad3-4ca7-a88e-23837b8f36d3",
   "metadata": {},
   "outputs": [],
   "source": [
    "username = 'your_username'\n",
    "password = 'your_password'\n",
    "hostname = 'data.codeup.com'"
   ]
  },
  {
   "cell_type": "markdown",
   "id": "0e5f4056-d361-4d95-880b-afeea9c86f5b",
   "metadata": {},
   "source": [
    "Save this file in the notebooks directory and save a copy in the util directory for use with the final report notebook. We will import our credentials from env.py and utilize the following function to acquiring our data."
   ]
  },
  {
   "cell_type": "code",
   "execution_count": 4,
   "id": "c76ccb49-1b20-4ccd-97b5-dffe9edfc44a",
   "metadata": {},
   "outputs": [],
   "source": [
    "from env import username, password, hostname\n",
    "\n",
    "def get_db_url(database_name, username = username, password = password, hostname = hostname):\n",
    "    return f'mysql+pymysql://{username}:{password}@{hostname}/{database_name}'"
   ]
  },
  {
   "cell_type": "markdown",
   "id": "a6e6acdb-2499-474a-89d0-87fde0068147",
   "metadata": {},
   "source": [
    "---\n",
    "\n",
    "## Acquiring the Data\n",
    "\n",
    "We can gather all the data we need by using a SQL query that joins together all the tables in the telco_churn database. The telco_churn database has several tables related with foreign keys. Here is a function that will give us the required SQL query:"
   ]
  },
  {
   "cell_type": "code",
   "execution_count": 5,
   "id": "1ba2f609-d7f3-4175-bccc-7b88d0418d6a",
   "metadata": {},
   "outputs": [],
   "source": [
    "def get_telco_sql():\n",
    "    return '''\n",
    "        SELECT *\n",
    "        FROM customers\n",
    "        JOIN payment_types USING (payment_type_id)\n",
    "        JOIN internet_service_types USING (internet_service_type_id)\n",
    "        JOIN contract_types USING (contract_type_id);\n",
    "    '''"
   ]
  },
  {
   "cell_type": "markdown",
   "id": "b5cc68be-66ea-47c4-8aed-640e488506bd",
   "metadata": {},
   "source": [
    "Next we want to read the dataset from the database. We would also like to cache this data for quicker access in the future. If we are doing this we must check if the cached file already exists before we try to read it from the database. We can achieve this using pandas and the os module from the python standard library. We put all this code into a function for our convenience."
   ]
  },
  {
   "cell_type": "code",
   "execution_count": 6,
   "id": "c1b98d9e-7975-450b-b636-934913ca58ad",
   "metadata": {},
   "outputs": [],
   "source": [
    "def get_telco_data(use_cache = True):\n",
    "    # If the file is cached, read from the .csv file\n",
    "    if os.path.exists('telco.csv') and use_cache:\n",
    "        print('Using cache')\n",
    "        return pd.read_csv('telco.csv')\n",
    "    \n",
    "    # Otherwise read from the mysql database\n",
    "    else:\n",
    "        print('Reading from database')\n",
    "        df = pd.read_sql(get_telco_sql(), get_db_url('telco_churn'))\n",
    "        df.to_csv('telco.csv', index = False)\n",
    "        return df"
   ]
  },
  {
   "cell_type": "code",
   "execution_count": 7,
   "id": "094c3eff-a249-44f8-b09b-f6cfca3ad7f0",
   "metadata": {},
   "outputs": [
    {
     "name": "stdout",
     "output_type": "stream",
     "text": [
      "Using cache\n"
     ]
    },
    {
     "data": {
      "text/html": [
       "<div>\n",
       "<style scoped>\n",
       "    .dataframe tbody tr th:only-of-type {\n",
       "        vertical-align: middle;\n",
       "    }\n",
       "\n",
       "    .dataframe tbody tr th {\n",
       "        vertical-align: top;\n",
       "    }\n",
       "\n",
       "    .dataframe thead th {\n",
       "        text-align: right;\n",
       "    }\n",
       "</style>\n",
       "<table border=\"1\" class=\"dataframe\">\n",
       "  <thead>\n",
       "    <tr style=\"text-align: right;\">\n",
       "      <th></th>\n",
       "      <th>contract_type_id</th>\n",
       "      <th>internet_service_type_id</th>\n",
       "      <th>payment_type_id</th>\n",
       "      <th>customer_id</th>\n",
       "      <th>gender</th>\n",
       "      <th>senior_citizen</th>\n",
       "      <th>partner</th>\n",
       "      <th>dependents</th>\n",
       "      <th>tenure</th>\n",
       "      <th>phone_service</th>\n",
       "      <th>...</th>\n",
       "      <th>tech_support</th>\n",
       "      <th>streaming_tv</th>\n",
       "      <th>streaming_movies</th>\n",
       "      <th>paperless_billing</th>\n",
       "      <th>monthly_charges</th>\n",
       "      <th>total_charges</th>\n",
       "      <th>churn</th>\n",
       "      <th>payment_type</th>\n",
       "      <th>internet_service_type</th>\n",
       "      <th>contract_type</th>\n",
       "    </tr>\n",
       "  </thead>\n",
       "  <tbody>\n",
       "    <tr>\n",
       "      <th>0</th>\n",
       "      <td>2</td>\n",
       "      <td>1</td>\n",
       "      <td>2</td>\n",
       "      <td>0002-ORFBO</td>\n",
       "      <td>Female</td>\n",
       "      <td>0</td>\n",
       "      <td>Yes</td>\n",
       "      <td>Yes</td>\n",
       "      <td>9</td>\n",
       "      <td>Yes</td>\n",
       "      <td>...</td>\n",
       "      <td>Yes</td>\n",
       "      <td>Yes</td>\n",
       "      <td>No</td>\n",
       "      <td>Yes</td>\n",
       "      <td>65.6</td>\n",
       "      <td>593.3</td>\n",
       "      <td>No</td>\n",
       "      <td>Mailed check</td>\n",
       "      <td>DSL</td>\n",
       "      <td>One year</td>\n",
       "    </tr>\n",
       "    <tr>\n",
       "      <th>1</th>\n",
       "      <td>1</td>\n",
       "      <td>1</td>\n",
       "      <td>2</td>\n",
       "      <td>0003-MKNFE</td>\n",
       "      <td>Male</td>\n",
       "      <td>0</td>\n",
       "      <td>No</td>\n",
       "      <td>No</td>\n",
       "      <td>9</td>\n",
       "      <td>Yes</td>\n",
       "      <td>...</td>\n",
       "      <td>No</td>\n",
       "      <td>No</td>\n",
       "      <td>Yes</td>\n",
       "      <td>No</td>\n",
       "      <td>59.9</td>\n",
       "      <td>542.4</td>\n",
       "      <td>No</td>\n",
       "      <td>Mailed check</td>\n",
       "      <td>DSL</td>\n",
       "      <td>Month-to-month</td>\n",
       "    </tr>\n",
       "  </tbody>\n",
       "</table>\n",
       "<p>2 rows × 24 columns</p>\n",
       "</div>"
      ],
      "text/plain": [
       "   contract_type_id  internet_service_type_id  payment_type_id customer_id  \\\n",
       "0                 2                         1                2  0002-ORFBO   \n",
       "1                 1                         1                2  0003-MKNFE   \n",
       "\n",
       "   gender  senior_citizen partner dependents  tenure phone_service  ...  \\\n",
       "0  Female               0     Yes        Yes       9           Yes  ...   \n",
       "1    Male               0      No         No       9           Yes  ...   \n",
       "\n",
       "  tech_support streaming_tv streaming_movies paperless_billing  \\\n",
       "0          Yes          Yes               No               Yes   \n",
       "1           No           No              Yes                No   \n",
       "\n",
       "  monthly_charges total_charges churn  payment_type  internet_service_type  \\\n",
       "0            65.6         593.3    No  Mailed check                    DSL   \n",
       "1            59.9         542.4    No  Mailed check                    DSL   \n",
       "\n",
       "    contract_type  \n",
       "0        One year  \n",
       "1  Month-to-month  \n",
       "\n",
       "[2 rows x 24 columns]"
      ]
     },
     "execution_count": 7,
     "metadata": {},
     "output_type": "execute_result"
    }
   ],
   "source": [
    "# Now we can acquire the data needed to proceed\n",
    "telco_customers = get_telco_data()\n",
    "telco_customers.head(2)"
   ]
  },
  {
   "cell_type": "markdown",
   "id": "410b05c6-901a-4228-8615-c421adf03646",
   "metadata": {},
   "source": [
    "---\n",
    "\n"
   ]
  },
  {
   "cell_type": "markdown",
   "id": "e34fa43e-f959-4633-b3c9-d098ef94555c",
   "metadata": {},
   "source": [
    "# Data Preparation\n",
    "\n",
    "---"
   ]
  },
  {
   "cell_type": "markdown",
   "id": "8305f174-6b37-4571-8be0-75debf0b4051",
   "metadata": {},
   "source": [
    "Here we will outline all the steps taken to prepare the data for exploratory analysis."
   ]
  },
  {
   "cell_type": "markdown",
   "id": "746d0aad-23a7-4c81-83b6-4e7295d234a4",
   "metadata": {},
   "source": [
    "---\n",
    "\n",
    "## Identify Missing Values\n",
    "\n",
    "We start by checking if any null values exist in the dataframe."
   ]
  },
  {
   "cell_type": "code",
   "execution_count": 8,
   "id": "9b28ac92-cbe3-46d4-b7d6-92ef31775043",
   "metadata": {},
   "outputs": [
    {
     "data": {
      "text/plain": [
       "contract_type_id            0\n",
       "internet_service_type_id    0\n",
       "payment_type_id             0\n",
       "customer_id                 0\n",
       "gender                      0\n",
       "senior_citizen              0\n",
       "partner                     0\n",
       "dependents                  0\n",
       "tenure                      0\n",
       "phone_service               0\n",
       "multiple_lines              0\n",
       "online_security             0\n",
       "online_backup               0\n",
       "device_protection           0\n",
       "tech_support                0\n",
       "streaming_tv                0\n",
       "streaming_movies            0\n",
       "paperless_billing           0\n",
       "monthly_charges             0\n",
       "total_charges               0\n",
       "churn                       0\n",
       "payment_type                0\n",
       "internet_service_type       0\n",
       "contract_type               0\n",
       "dtype: int64"
      ]
     },
     "execution_count": 8,
     "metadata": {},
     "output_type": "execute_result"
    }
   ],
   "source": [
    "telco_customers.isna().sum()"
   ]
  },
  {
   "cell_type": "markdown",
   "id": "09177313-c77e-4e2d-aada-638cd65c39da",
   "metadata": {},
   "source": [
    "We do not have any null values so we can proceed."
   ]
  },
  {
   "cell_type": "markdown",
   "id": "1fc7f425-5446-410b-9f60-b07d2d132482",
   "metadata": {},
   "source": [
    "---\n",
    "\n",
    "## Remove Duplicates\n",
    "\n",
    "Next we will remove any duplicates that may exist in the dataframe."
   ]
  },
  {
   "cell_type": "code",
   "execution_count": 9,
   "id": "cd593e1c-c382-4e18-af02-6d0d4e8faf28",
   "metadata": {},
   "outputs": [
    {
     "data": {
      "text/plain": [
       "(7043, 24)"
      ]
     },
     "execution_count": 9,
     "metadata": {},
     "output_type": "execute_result"
    }
   ],
   "source": [
    "telco_customers.shape"
   ]
  },
  {
   "cell_type": "code",
   "execution_count": 10,
   "id": "62fcd19c-a163-4d71-a6fb-a9f2e92c10e6",
   "metadata": {},
   "outputs": [
    {
     "data": {
      "text/plain": [
       "(7043, 24)"
      ]
     },
     "execution_count": 10,
     "metadata": {},
     "output_type": "execute_result"
    }
   ],
   "source": [
    "telco_customers = telco_customers.drop_duplicates()\n",
    "telco_customers.shape"
   ]
  },
  {
   "cell_type": "markdown",
   "id": "f2d4fb09-5d67-4103-be96-9e04e4a40b09",
   "metadata": {},
   "source": [
    "---\n",
    "\n",
    "## Identify Useless/Redundant Features\n",
    "\n",
    "Now we will idenfify any useless or redundant features in our data. Useless features could be unique identifiers which will not have any influence over customer churn. Redundant features could be columns that were used as foreign keys in the MySQL database.\n",
    "\n",
    "The customer_id column is a unique identifier. We can see this by looking at a few rows and counting the number of unique values and comparing to the total number of rows."
   ]
  },
  {
   "cell_type": "code",
   "execution_count": 11,
   "id": "2bb31ee2-1a6d-4782-9f5c-a61432fa41a9",
   "metadata": {},
   "outputs": [
    {
     "data": {
      "text/plain": [
       "0    0002-ORFBO\n",
       "1    0003-MKNFE\n",
       "2    0004-TLHLJ\n",
       "Name: customer_id, dtype: object"
      ]
     },
     "execution_count": 11,
     "metadata": {},
     "output_type": "execute_result"
    }
   ],
   "source": [
    "telco_customers['customer_id'].head(3)"
   ]
  },
  {
   "cell_type": "code",
   "execution_count": 12,
   "id": "09b66518-65c0-4075-881c-22d730015cca",
   "metadata": {},
   "outputs": [
    {
     "data": {
      "text/plain": [
       "True"
      ]
     },
     "execution_count": 12,
     "metadata": {},
     "output_type": "execute_result"
    }
   ],
   "source": [
    "telco_customers['customer_id'].nunique() == telco_customers.shape[0]"
   ]
  },
  {
   "cell_type": "markdown",
   "id": "189bfde1-3773-47be-b748-f18f7cd58b1c",
   "metadata": {},
   "source": [
    "We will drop this column since it's of no use to us.\n",
    "\n",
    "The contract_type_id, internet_service_type_id and payment_type_id columns are all foreign key columns. We see this by looking the unique values in each column compared to the columns contract_type, internet_service_type, and payment_type."
   ]
  },
  {
   "cell_type": "code",
   "execution_count": 13,
   "id": "af07eaa8-8986-4d93-a165-594e1e97d0af",
   "metadata": {},
   "outputs": [
    {
     "name": "stdout",
     "output_type": "stream",
     "text": [
      "contract_type_id  contract_type \n",
      "1                 Month-to-month    3875\n",
      "3                 Two year          1695\n",
      "2                 One year          1473\n",
      "dtype: int64\n",
      "----------\n",
      "internet_service_type_id  internet_service_type\n",
      "2                         Fiber optic              3096\n",
      "1                         DSL                      2421\n",
      "3                         None                     1526\n",
      "dtype: int64\n",
      "----------\n",
      "payment_type_id  payment_type             \n",
      "1                Electronic check             2365\n",
      "2                Mailed check                 1612\n",
      "3                Bank transfer (automatic)    1544\n",
      "4                Credit card (automatic)      1522\n",
      "dtype: int64\n",
      "----------\n"
     ]
    }
   ],
   "source": [
    "columns = [\n",
    "    ['contract_type_id', 'contract_type'],\n",
    "    ['internet_service_type_id', 'internet_service_type'],\n",
    "    ['payment_type_id', 'payment_type']\n",
    "]\n",
    "\n",
    "for column in columns:\n",
    "    print(telco_customers[column].value_counts(), end = '\\n----------\\n')"
   ]
  },
  {
   "cell_type": "markdown",
   "id": "f1daac69-17ae-4c59-8f06-15df374b05bd",
   "metadata": {},
   "source": [
    "We can see here that each of these column pairs matches up perfectly meaning the id columns were foreign key columns in the MySQL database. We will drop the id columns and keep their counterparts since these have human readable values.\n",
    "\n",
    "Now let's drop these columns."
   ]
  },
  {
   "cell_type": "code",
   "execution_count": 14,
   "id": "c461747f-9883-4f46-b5e1-2085b06b0802",
   "metadata": {},
   "outputs": [
    {
     "name": "stdout",
     "output_type": "stream",
     "text": [
      "<class 'pandas.core.frame.DataFrame'>\n",
      "Int64Index: 7043 entries, 0 to 7042\n",
      "Data columns (total 20 columns):\n",
      " #   Column                 Non-Null Count  Dtype  \n",
      "---  ------                 --------------  -----  \n",
      " 0   gender                 7043 non-null   object \n",
      " 1   senior_citizen         7043 non-null   int64  \n",
      " 2   partner                7043 non-null   object \n",
      " 3   dependents             7043 non-null   object \n",
      " 4   tenure                 7043 non-null   int64  \n",
      " 5   phone_service          7043 non-null   object \n",
      " 6   multiple_lines         7043 non-null   object \n",
      " 7   online_security        7043 non-null   object \n",
      " 8   online_backup          7043 non-null   object \n",
      " 9   device_protection      7043 non-null   object \n",
      " 10  tech_support           7043 non-null   object \n",
      " 11  streaming_tv           7043 non-null   object \n",
      " 12  streaming_movies       7043 non-null   object \n",
      " 13  paperless_billing      7043 non-null   object \n",
      " 14  monthly_charges        7043 non-null   float64\n",
      " 15  total_charges          7043 non-null   object \n",
      " 16  churn                  7043 non-null   object \n",
      " 17  payment_type           7043 non-null   object \n",
      " 18  internet_service_type  7043 non-null   object \n",
      " 19  contract_type          7043 non-null   object \n",
      "dtypes: float64(1), int64(2), object(17)\n",
      "memory usage: 1.1+ MB\n"
     ]
    }
   ],
   "source": [
    "columns_to_drop = [\n",
    "    'customer_id',\n",
    "    'contract_type_id',\n",
    "    'internet_service_type_id',\n",
    "    'payment_type_id'\n",
    "]\n",
    "\n",
    "telco_customers = telco_customers.drop(columns = columns_to_drop)\n",
    "\n",
    "# Let's make sure it worked\n",
    "telco_customers.info()"
   ]
  },
  {
   "cell_type": "markdown",
   "id": "fbdca39f-ecb5-46ad-b52b-869f2129737d",
   "metadata": {},
   "source": [
    "---\n",
    "\n",
    "## Check Other Features for Unusual Values\n",
    "\n",
    "Next we want to check our other columns for unusual values or redundant values.\n",
    "\n",
    "If we take a look at the total_charges column we will see that there is a hidden group of missing values; however, this is related to the customers that have just recently signed on. We will remove these rows from the dataset since they are unlikely to affect our results."
   ]
  },
  {
   "cell_type": "code",
   "execution_count": 15,
   "id": "9e138e0e-1d0c-4480-af64-f11dff01e6ad",
   "metadata": {},
   "outputs": [
    {
     "name": "stdout",
     "output_type": "stream",
     "text": [
      "0      11\n",
      "1     613\n",
      "2     238\n",
      "3     200\n",
      "4     176\n",
      "     ... \n",
      "68    100\n",
      "69     95\n",
      "70    119\n",
      "71    170\n",
      "72    362\n",
      "Name: tenure, Length: 73, dtype: int64\n",
      "----------\n",
      "          11\n",
      "100.2      1\n",
      "100.25     1\n",
      "100.35     1\n",
      "100.4      1\n",
      "          ..\n",
      "997.75     1\n",
      "998.1      1\n",
      "999.45     1\n",
      "999.8      1\n",
      "999.9      1\n",
      "Name: total_charges, Length: 6531, dtype: int64\n",
      "----------\n"
     ]
    }
   ],
   "source": [
    "columns = ['tenure', 'total_charges']\n",
    "\n",
    "for column in columns:\n",
    "    print(telco_customers[column].value_counts().sort_index(), end = '\\n----------\\n')"
   ]
  },
  {
   "cell_type": "code",
   "execution_count": 16,
   "id": "906f2343-ee24-412b-a39c-436de597b970",
   "metadata": {},
   "outputs": [
    {
     "data": {
      "text/plain": [
       "7032"
      ]
     },
     "execution_count": 16,
     "metadata": {},
     "output_type": "execute_result"
    }
   ],
   "source": [
    "# Now we remove the rows\n",
    "# This should remove 11 rows leaving us with 7032 rows\n",
    "\n",
    "does_not_have_zero_tenure = telco_customers.tenure != 0\n",
    "telco_customers = telco_customers[does_not_have_zero_tenure]\n",
    "telco_customers.shape[0]"
   ]
  },
  {
   "cell_type": "code",
   "execution_count": 19,
   "id": "fb8de47b-50b7-4247-9d04-248018a18dfa",
   "metadata": {},
   "outputs": [
    {
     "data": {
      "text/plain": [
       "dtype('float64')"
      ]
     },
     "execution_count": 19,
     "metadata": {},
     "output_type": "execute_result"
    }
   ],
   "source": [
    "# We'll also cast the total_charges columns to a float type\n",
    "\n",
    "telco_customers.total_charges = telco_customers.total_charges.astype('float')\n",
    "telco_customers.total_charges.dtypes"
   ]
  },
  {
   "cell_type": "markdown",
   "id": "2bf94753-4a25-406f-bfb7-d80745c15bf0",
   "metadata": {},
   "source": [
    "The columns multiple_lines, online_security, online_backup, device_protection, tech_support, streaming_tv, and streaming_movies all have two \"No\" values: one for \"No\" and one for \"No service\". This can be seen below."
   ]
  },
  {
   "cell_type": "code",
   "execution_count": 17,
   "id": "b92075dd-76d9-4cc7-8049-f67e13cecf08",
   "metadata": {},
   "outputs": [
    {
     "name": "stdout",
     "output_type": "stream",
     "text": [
      "No                  3385\n",
      "Yes                 2967\n",
      "No phone service     680\n",
      "Name: multiple_lines, dtype: int64\n",
      "----------\n",
      "No                     3497\n",
      "Yes                    2015\n",
      "No internet service    1520\n",
      "Name: online_security, dtype: int64\n",
      "----------\n",
      "No                     3087\n",
      "Yes                    2425\n",
      "No internet service    1520\n",
      "Name: online_backup, dtype: int64\n",
      "----------\n",
      "No                     3094\n",
      "Yes                    2418\n",
      "No internet service    1520\n",
      "Name: device_protection, dtype: int64\n",
      "----------\n",
      "No                     3472\n",
      "Yes                    2040\n",
      "No internet service    1520\n",
      "Name: tech_support, dtype: int64\n",
      "----------\n",
      "No                     2809\n",
      "Yes                    2703\n",
      "No internet service    1520\n",
      "Name: streaming_tv, dtype: int64\n",
      "----------\n",
      "No                     2781\n",
      "Yes                    2731\n",
      "No internet service    1520\n",
      "Name: streaming_movies, dtype: int64\n",
      "----------\n"
     ]
    }
   ],
   "source": [
    "columns = [\n",
    "    'multiple_lines',\n",
    "    'online_security',\n",
    "    'online_backup',\n",
    "    'device_protection',\n",
    "    'tech_support',\n",
    "    'streaming_tv',\n",
    "    'streaming_movies'\n",
    "]\n",
    "\n",
    "for column in columns:\n",
    "    print(telco_customers[column].value_counts(), end = '\\n----------\\n')"
   ]
  },
  {
   "cell_type": "markdown",
   "id": "d260c272-c988-437f-9eff-3c8cc5eb05b1",
   "metadata": {},
   "source": [
    "We can combine these duplicate \"No\" values into a single \"No\" value."
   ]
  },
  {
   "cell_type": "code",
   "execution_count": 18,
   "id": "8d8df80b-00b7-4763-a5d6-59c50c8a1063",
   "metadata": {},
   "outputs": [
    {
     "name": "stdout",
     "output_type": "stream",
     "text": [
      "No     4065\n",
      "Yes    2967\n",
      "Name: multiple_lines, dtype: int64\n",
      "----------\n",
      "No     5017\n",
      "Yes    2015\n",
      "Name: online_security, dtype: int64\n",
      "----------\n",
      "No     4607\n",
      "Yes    2425\n",
      "Name: online_backup, dtype: int64\n",
      "----------\n",
      "No     4614\n",
      "Yes    2418\n",
      "Name: device_protection, dtype: int64\n",
      "----------\n",
      "No     4992\n",
      "Yes    2040\n",
      "Name: tech_support, dtype: int64\n",
      "----------\n",
      "No     4329\n",
      "Yes    2703\n",
      "Name: streaming_tv, dtype: int64\n",
      "----------\n",
      "No     4301\n",
      "Yes    2731\n",
      "Name: streaming_movies, dtype: int64\n",
      "----------\n"
     ]
    }
   ],
   "source": [
    "columns = [\n",
    "    'multiple_lines',\n",
    "    'online_security',\n",
    "    'online_backup',\n",
    "    'device_protection',\n",
    "    'tech_support',\n",
    "    'streaming_tv',\n",
    "    'streaming_movies'\n",
    "]\n",
    "\n",
    "for column in columns:\n",
    "    telco_customers[column] = np.where(telco_customers[column] == 'Yes', 'Yes', 'No')\n",
    "    \n",
    "# Let's verify that it worked\n",
    "for column in columns:\n",
    "    print(telco_customers[column].value_counts(), end = '\\n----------\\n')"
   ]
  },
  {
   "cell_type": "markdown",
   "id": "5d86c76d-ac19-4fde-ad4f-10211e9ca333",
   "metadata": {},
   "source": [
    "---\n",
    "\n",
    "## Encode Non Numeric Features\n",
    "\n",
    "Lastly we need to encode all of our non numeric features into numeric columns so that we can use them with our machine learning models. We will use pandas to help us with this."
   ]
  },
  {
   "cell_type": "code",
   "execution_count": 20,
   "id": "02f6368e-29cd-42f5-973e-deb669f69cef",
   "metadata": {},
   "outputs": [
    {
     "name": "stdout",
     "output_type": "stream",
     "text": [
      "<class 'pandas.core.frame.DataFrame'>\n",
      "Int64Index: 7032 entries, 0 to 7042\n",
      "Data columns (total 40 columns):\n",
      " #   Column                              Non-Null Count  Dtype  \n",
      "---  ------                              --------------  -----  \n",
      " 0   gender                              7032 non-null   object \n",
      " 1   senior_citizen                      7032 non-null   int64  \n",
      " 2   partner                             7032 non-null   object \n",
      " 3   dependents                          7032 non-null   object \n",
      " 4   tenure                              7032 non-null   int64  \n",
      " 5   phone_service                       7032 non-null   object \n",
      " 6   multiple_lines                      7032 non-null   object \n",
      " 7   online_security                     7032 non-null   object \n",
      " 8   online_backup                       7032 non-null   object \n",
      " 9   device_protection                   7032 non-null   object \n",
      " 10  tech_support                        7032 non-null   object \n",
      " 11  streaming_tv                        7032 non-null   object \n",
      " 12  streaming_movies                    7032 non-null   object \n",
      " 13  paperless_billing                   7032 non-null   object \n",
      " 14  monthly_charges                     7032 non-null   float64\n",
      " 15  total_charges                       7032 non-null   float64\n",
      " 16  churn                               7032 non-null   object \n",
      " 17  payment_type                        7032 non-null   object \n",
      " 18  internet_service_type               7032 non-null   object \n",
      " 19  contract_type                       7032 non-null   object \n",
      " 20  gender_male                         7032 non-null   uint8  \n",
      " 21  partner_yes                         7032 non-null   uint8  \n",
      " 22  dependents_yes                      7032 non-null   uint8  \n",
      " 23  phone_service_yes                   7032 non-null   uint8  \n",
      " 24  multiple_lines_yes                  7032 non-null   uint8  \n",
      " 25  online_security_yes                 7032 non-null   uint8  \n",
      " 26  online_backup_yes                   7032 non-null   uint8  \n",
      " 27  device_protection_yes               7032 non-null   uint8  \n",
      " 28  tech_support_yes                    7032 non-null   uint8  \n",
      " 29  streaming_tv_yes                    7032 non-null   uint8  \n",
      " 30  streaming_movies_yes                7032 non-null   uint8  \n",
      " 31  paperless_billing_yes               7032 non-null   uint8  \n",
      " 32  churn_yes                           7032 non-null   uint8  \n",
      " 33  payment_type_credit_card_automatic  7032 non-null   uint8  \n",
      " 34  payment_type_electronic_check       7032 non-null   uint8  \n",
      " 35  payment_type_mailed_check           7032 non-null   uint8  \n",
      " 36  internet_service_type_fiber_optic   7032 non-null   uint8  \n",
      " 37  internet_service_type_none          7032 non-null   uint8  \n",
      " 38  contract_type_one_year              7032 non-null   uint8  \n",
      " 39  contract_type_two_year              7032 non-null   uint8  \n",
      "dtypes: float64(2), int64(2), object(16), uint8(20)\n",
      "memory usage: 1.3+ MB\n"
     ]
    }
   ],
   "source": [
    "# We only need non numeric categorical features\n",
    "categorical_cols = telco_customers.dtypes[telco_customers.dtypes == 'object'].index\n",
    "\n",
    "# pandas' get_dummies function will encode these features for us\n",
    "dummy_df = pd.get_dummies(telco_customers[categorical_cols], dummy_na = False, drop_first = True)\n",
    "telco_customers = pd.concat([telco_customers, dummy_df], axis = 1)\n",
    "\n",
    "# We'll also clean up the column names by removing spaces and lower casing everything\n",
    "telco_customers.columns = telco_customers.columns.str.replace(' ', '_', regex = False).str.lower()\n",
    "telco_customers.columns = telco_customers.columns.str.replace('\\(|\\)', '', regex = True)\n",
    "\n",
    "# Let's see if it worked\n",
    "telco_customers.info()"
   ]
  },
  {
   "cell_type": "markdown",
   "id": "71ad2569-f7ca-4732-ba8c-6c93f765dff3",
   "metadata": {},
   "source": [
    "In util/prepare.py we have all these steps collected in a single function prep_telco_data() for our convenience."
   ]
  },
  {
   "cell_type": "markdown",
   "id": "d677019d-114b-4121-bdaa-4c7c0a040f8e",
   "metadata": {},
   "source": [
    "---\n",
    "\n",
    "## Split the Data\n",
    "\n",
    "Now that we have our prepare function ready we need to create a function to split the data for us. We need to split the data into train, validate, and test datasets. We will first make an 80/20 split to get a test dataset that is 20% of our original data. Then with the other 80% we will make a 70/30 split where the train dataset will be 70% and the validate dataset will be 30%. We can use sklearn to help with this. We will put everything in a function for our convenience."
   ]
  },
  {
   "cell_type": "code",
   "execution_count": 21,
   "id": "4e4f8f81-ea81-4bb9-a1eb-bc5d84a51069",
   "metadata": {},
   "outputs": [],
   "source": [
    "def split_data(df, stratify, random_seed = 24):\n",
    "    test_split = 0.2\n",
    "    train_validate_split = 0.3\n",
    "\n",
    "    train_validate, test = train_test_split(\n",
    "        df,\n",
    "        test_size = test_split,\n",
    "        random_state = random_seed,\n",
    "        stratify = df[stratify]\n",
    "    )\n",
    "    \n",
    "    train, validate = train_test_split(\n",
    "        train_validate,\n",
    "        test_size = train_validate_split,\n",
    "        random_state = random_seed,\n",
    "        stratify = train_validate[stratify]\n",
    "    )\n",
    "    return train, validate, test"
   ]
  },
  {
   "cell_type": "code",
   "execution_count": 24,
   "id": "03abf67d-30d2-4bc6-9ba8-8be87617adfa",
   "metadata": {},
   "outputs": [],
   "source": [
    "# Now we split our data\n",
    "train, validate, test = split_data(telco_customers, 'churn')"
   ]
  },
  {
   "cell_type": "markdown",
   "id": "e43bdb94-afa3-4ccc-b2d8-fb133643e8f2",
   "metadata": {},
   "source": [
    "**It is important that from this point on we will only work with our train dataset. We will not use validate until we get to modeling and we will not use test until we have selected our best model.**"
   ]
  },
  {
   "cell_type": "markdown",
   "id": "37a2e0a4-ef13-4ae4-a3dd-4b4883e33160",
   "metadata": {},
   "source": [
    "---\n",
    "\n",
    "# Exploratory Analysis\n",
    "\n",
    "---"
   ]
  },
  {
   "cell_type": "code",
   "execution_count": null,
   "id": "eb0eac15-9256-41e6-aef7-250907ce5b7a",
   "metadata": {},
   "outputs": [],
   "source": []
  }
 ],
 "metadata": {
  "kernelspec": {
   "display_name": "Python 3 (ipykernel)",
   "language": "python",
   "name": "python3"
  },
  "language_info": {
   "codemirror_mode": {
    "name": "ipython",
    "version": 3
   },
   "file_extension": ".py",
   "mimetype": "text/x-python",
   "name": "python",
   "nbconvert_exporter": "python",
   "pygments_lexer": "ipython3",
   "version": "3.9.7"
  }
 },
 "nbformat": 4,
 "nbformat_minor": 5
}
