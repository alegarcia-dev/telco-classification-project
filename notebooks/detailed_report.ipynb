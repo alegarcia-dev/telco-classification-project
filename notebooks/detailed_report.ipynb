{
 "cells": [
  {
   "cell_type": "markdown",
   "id": "895693ea-8ddc-4869-bd4b-da14e6d8cdde",
   "metadata": {},
   "source": [
    "# Reducing Customer Churn at Telco\n",
    "\n",
    "---"
   ]
  },
  {
   "cell_type": "markdown",
   "id": "88840c78-52b1-4b11-8e93-da135b645378",
   "metadata": {},
   "source": [
    "## Project Goals\n",
    "\n",
    "The goal of this project is to identify drivers of customer churn at Telco, produce a prediction model to identify \n",
    "which customers are at the highest risk of churning, and offer a recommendation for reducing customer churn.\n",
    "\n",
    "---"
   ]
  },
  {
   "cell_type": "markdown",
   "id": "7f942113-c254-4dbf-8203-8ec3be449eaa",
   "metadata": {},
   "source": [
    "## Project Description\n",
    "\n",
    "Telco customers are churning at an unacceptably high rate which is affecting the company's bottom line. Retaining\n",
    "existing customers costs far less than signing new customers. As such we want to reduce churn in order to help\n",
    "the Telco's bottom line rather than relying on signing new customers to make up the difference. We will compare\n",
    "and contrast customers who have churned versus those who haven't to determine the attributes that are driving \n",
    "customers to churn. We will produce a prediction model to help identify the customers that are at the highest risk \n",
    "of churning and we will provide a list of customers who are likely to churn (provided in predictions.csv). Finally, \n",
    "we will offer a recommended course of action to help promote customer retention.\n",
    "\n",
    "---"
   ]
  },
  {
   "cell_type": "markdown",
   "id": "6ab77bfe-3ff6-40fc-88bf-6f8c1c1d933d",
   "metadata": {},
   "source": [
    "# Imports\n",
    "\n",
    "Below are all the imports needed to reproduce this project. This utilizes numpy, pandas, matplotlib, seaborn and sklearn. If you do not have these installed already install them now before proceeding."
   ]
  },
  {
   "cell_type": "code",
   "execution_count": 4,
   "id": "7fac73bf-39ea-451b-b113-05d86c710ee1",
   "metadata": {},
   "outputs": [],
   "source": [
    "import os\n",
    "import numpy as np\n",
    "import pandas as pd"
   ]
  },
  {
   "cell_type": "markdown",
   "id": "1017198d-6dd6-494e-b9d6-259c92694090",
   "metadata": {},
   "source": [
    "# Data Acquisition\n",
    "\n",
    "---\n",
    "\n",
    "## Accessing the Database\n",
    "\n",
    "Here we will outline the process for acquiring the Telco customer dataset from the MySQL database. In order to access this data you will need login credentials. Assuming you have credentials save these in a env.py file in the following form:"
   ]
  },
  {
   "cell_type": "code",
   "execution_count": 1,
   "id": "8c575bba-1ad3-4ca7-a88e-23837b8f36d3",
   "metadata": {},
   "outputs": [],
   "source": [
    "username = 'your_username'\n",
    "password = 'your_password'\n",
    "hostname = 'data.codeup.com'"
   ]
  },
  {
   "cell_type": "markdown",
   "id": "0e5f4056-d361-4d95-880b-afeea9c86f5b",
   "metadata": {},
   "source": [
    "Save this file in the notebooks directory and save a copy in the util directory for use with the final report notebook. We will import our credentials from env.py and utilize the following function to acquiring our data."
   ]
  },
  {
   "cell_type": "code",
   "execution_count": 2,
   "id": "c76ccb49-1b20-4ccd-97b5-dffe9edfc44a",
   "metadata": {},
   "outputs": [],
   "source": [
    "from env import username, password, hostname\n",
    "\n",
    "def get_db_url(database_name, username = username, password = password, hostname = hostname):\n",
    "    return f'mysql+pymysql://{username}:{password}@{hostname}/{database_name}'"
   ]
  },
  {
   "cell_type": "markdown",
   "id": "a6e6acdb-2499-474a-89d0-87fde0068147",
   "metadata": {},
   "source": [
    "---\n",
    "\n",
    "## Acquiring the Data\n",
    "\n",
    "We can gather all the data we need by using a SQL query that joins together all the tables in the telco_churn database. The telco_churn database has several tables related with foreign keys. Here is a function that will give us the required SQL query:"
   ]
  },
  {
   "cell_type": "code",
   "execution_count": 3,
   "id": "1ba2f609-d7f3-4175-bccc-7b88d0418d6a",
   "metadata": {},
   "outputs": [],
   "source": [
    "def get_telco_sql():\n",
    "    return '''\n",
    "        SELECT *\n",
    "        FROM customers\n",
    "        JOIN payment_types USING (payment_type_id)\n",
    "        JOIN internet_service_types USING (internet_service_type_id)\n",
    "        JOIN contract_types USING (contract_type_id);\n",
    "    '''"
   ]
  },
  {
   "cell_type": "markdown",
   "id": "b5cc68be-66ea-47c4-8aed-640e488506bd",
   "metadata": {},
   "source": [
    "Next we want to read the dataset from the database. We would also like to cache this data for quicker access in the future. If we are doing this we must check if the cached file already exists before we try to read it from the database. We can achieve this using pandas and the os module from the python standard library. We put all this code into a function for our convenience."
   ]
  },
  {
   "cell_type": "code",
   "execution_count": 5,
   "id": "c1b98d9e-7975-450b-b636-934913ca58ad",
   "metadata": {},
   "outputs": [],
   "source": [
    "def get_telco_data(use_cache = True):\n",
    "    # If the file is cached, read from the .csv file\n",
    "    if os.path.exists('telco.csv') and use_cache:\n",
    "        print('Using cache')\n",
    "        return pd.read_csv('telco.csv')\n",
    "    \n",
    "    # Otherwise read from the mysql database\n",
    "    else:\n",
    "        print('Reading from database')\n",
    "        df = pd.read_sql(get_telco_sql(), get_db_url('telco_churn'))\n",
    "        df.to_csv('telco.csv', index = False)\n",
    "        return df"
   ]
  },
  {
   "cell_type": "code",
   "execution_count": 6,
   "id": "094c3eff-a249-44f8-b09b-f6cfca3ad7f0",
   "metadata": {},
   "outputs": [
    {
     "name": "stdout",
     "output_type": "stream",
     "text": [
      "Using cache\n"
     ]
    },
    {
     "data": {
      "text/html": [
       "<div>\n",
       "<style scoped>\n",
       "    .dataframe tbody tr th:only-of-type {\n",
       "        vertical-align: middle;\n",
       "    }\n",
       "\n",
       "    .dataframe tbody tr th {\n",
       "        vertical-align: top;\n",
       "    }\n",
       "\n",
       "    .dataframe thead th {\n",
       "        text-align: right;\n",
       "    }\n",
       "</style>\n",
       "<table border=\"1\" class=\"dataframe\">\n",
       "  <thead>\n",
       "    <tr style=\"text-align: right;\">\n",
       "      <th></th>\n",
       "      <th>contract_type_id</th>\n",
       "      <th>internet_service_type_id</th>\n",
       "      <th>payment_type_id</th>\n",
       "      <th>customer_id</th>\n",
       "      <th>gender</th>\n",
       "      <th>senior_citizen</th>\n",
       "      <th>partner</th>\n",
       "      <th>dependents</th>\n",
       "      <th>tenure</th>\n",
       "      <th>phone_service</th>\n",
       "      <th>...</th>\n",
       "      <th>tech_support</th>\n",
       "      <th>streaming_tv</th>\n",
       "      <th>streaming_movies</th>\n",
       "      <th>paperless_billing</th>\n",
       "      <th>monthly_charges</th>\n",
       "      <th>total_charges</th>\n",
       "      <th>churn</th>\n",
       "      <th>payment_type</th>\n",
       "      <th>internet_service_type</th>\n",
       "      <th>contract_type</th>\n",
       "    </tr>\n",
       "  </thead>\n",
       "  <tbody>\n",
       "    <tr>\n",
       "      <th>0</th>\n",
       "      <td>2</td>\n",
       "      <td>1</td>\n",
       "      <td>2</td>\n",
       "      <td>0002-ORFBO</td>\n",
       "      <td>Female</td>\n",
       "      <td>0</td>\n",
       "      <td>Yes</td>\n",
       "      <td>Yes</td>\n",
       "      <td>9</td>\n",
       "      <td>Yes</td>\n",
       "      <td>...</td>\n",
       "      <td>Yes</td>\n",
       "      <td>Yes</td>\n",
       "      <td>No</td>\n",
       "      <td>Yes</td>\n",
       "      <td>65.6</td>\n",
       "      <td>593.3</td>\n",
       "      <td>No</td>\n",
       "      <td>Mailed check</td>\n",
       "      <td>DSL</td>\n",
       "      <td>One year</td>\n",
       "    </tr>\n",
       "    <tr>\n",
       "      <th>1</th>\n",
       "      <td>1</td>\n",
       "      <td>1</td>\n",
       "      <td>2</td>\n",
       "      <td>0003-MKNFE</td>\n",
       "      <td>Male</td>\n",
       "      <td>0</td>\n",
       "      <td>No</td>\n",
       "      <td>No</td>\n",
       "      <td>9</td>\n",
       "      <td>Yes</td>\n",
       "      <td>...</td>\n",
       "      <td>No</td>\n",
       "      <td>No</td>\n",
       "      <td>Yes</td>\n",
       "      <td>No</td>\n",
       "      <td>59.9</td>\n",
       "      <td>542.4</td>\n",
       "      <td>No</td>\n",
       "      <td>Mailed check</td>\n",
       "      <td>DSL</td>\n",
       "      <td>Month-to-month</td>\n",
       "    </tr>\n",
       "  </tbody>\n",
       "</table>\n",
       "<p>2 rows × 24 columns</p>\n",
       "</div>"
      ],
      "text/plain": [
       "   contract_type_id  internet_service_type_id  payment_type_id customer_id  \\\n",
       "0                 2                         1                2  0002-ORFBO   \n",
       "1                 1                         1                2  0003-MKNFE   \n",
       "\n",
       "   gender  senior_citizen partner dependents  tenure phone_service  ...  \\\n",
       "0  Female               0     Yes        Yes       9           Yes  ...   \n",
       "1    Male               0      No         No       9           Yes  ...   \n",
       "\n",
       "  tech_support streaming_tv streaming_movies paperless_billing  \\\n",
       "0          Yes          Yes               No               Yes   \n",
       "1           No           No              Yes                No   \n",
       "\n",
       "  monthly_charges total_charges churn  payment_type  internet_service_type  \\\n",
       "0            65.6         593.3    No  Mailed check                    DSL   \n",
       "1            59.9         542.4    No  Mailed check                    DSL   \n",
       "\n",
       "    contract_type  \n",
       "0        One year  \n",
       "1  Month-to-month  \n",
       "\n",
       "[2 rows x 24 columns]"
      ]
     },
     "execution_count": 6,
     "metadata": {},
     "output_type": "execute_result"
    }
   ],
   "source": [
    "# Now we can acquire the data needed to proceed\n",
    "telco_customers = get_telco_data()\n",
    "telco_customers.head(2)"
   ]
  },
  {
   "cell_type": "markdown",
   "id": "410b05c6-901a-4228-8615-c421adf03646",
   "metadata": {},
   "source": [
    "---\n",
    "\n"
   ]
  },
  {
   "cell_type": "code",
   "execution_count": null,
   "id": "7df563b0-dc0e-42aa-959f-44705c565d85",
   "metadata": {},
   "outputs": [],
   "source": []
  }
 ],
 "metadata": {
  "kernelspec": {
   "display_name": "Python 3 (ipykernel)",
   "language": "python",
   "name": "python3"
  },
  "language_info": {
   "codemirror_mode": {
    "name": "ipython",
    "version": 3
   },
   "file_extension": ".py",
   "mimetype": "text/x-python",
   "name": "python",
   "nbconvert_exporter": "python",
   "pygments_lexer": "ipython3",
   "version": "3.9.7"
  }
 },
 "nbformat": 4,
 "nbformat_minor": 5
}
