{
 "cells": [
  {
   "cell_type": "markdown",
   "id": "49714e29-daaa-4c69-8ca4-c67f7adc5742",
   "metadata": {},
   "source": [
    "# Data Preparation\n",
    "\n",
    "---\n",
    "\n",
    "This notebook outlines the process for preparing the Telco customer data for exploratory analysis. This notebook also demonstrates the steps to create and test the functions in the util/prepare.py file.\n",
    "\n",
    "---\n",
    "\n",
    "## Acquire the Data\n",
    "\n",
    "Let's first use the functions we created in acquire.ipynb to acquire our data."
   ]
  },
  {
   "cell_type": "code",
   "execution_count": 1,
   "id": "07acc88e-b0b1-4ab7-b409-e412e0d457d2",
   "metadata": {},
   "outputs": [],
   "source": [
    "import os\n",
    "import pandas as pd\n",
    "from env import username, password, hostname\n",
    "database_name = 'telco_churn'\n",
    "\n",
    "def get_db_url(database_name, username = username, password = password, hostname = hostname):\n",
    "    return f'mysql+pymysql://{username}:{password}@{hostname}/{database_name}'\n",
    "\n",
    "def get_telco_sql():\n",
    "    return '''\n",
    "        SELECT *\n",
    "        FROM customers\n",
    "        JOIN payment_types USING (payment_type_id)\n",
    "        JOIN internet_service_types USING (internet_service_type_id)\n",
    "        JOIN contract_types USING (contract_type_id);\n",
    "    '''\n",
    "\n",
    "def get_telco_data(use_cache = True):\n",
    "    # If the file is cached, read from the .csv file\n",
    "    if os.path.exists('telco.csv') and use_cache:\n",
    "        print('Using cache')\n",
    "        return pd.read_csv('telco.csv')\n",
    "    \n",
    "    # Otherwise read from the mysql database\n",
    "    else:\n",
    "        print('Reading from database')\n",
    "        df = pd.read_sql(get_telco_sql(), get_db_url('telco_churn'))\n",
    "        df.to_csv('telco.csv', index = False)\n",
    "        return df"
   ]
  },
  {
   "cell_type": "code",
   "execution_count": 2,
   "id": "7b5b630c-0be7-47a5-9bd9-68172b7556c7",
   "metadata": {},
   "outputs": [
    {
     "name": "stdout",
     "output_type": "stream",
     "text": [
      "Using cache\n"
     ]
    },
    {
     "data": {
      "text/html": [
       "<div>\n",
       "<style scoped>\n",
       "    .dataframe tbody tr th:only-of-type {\n",
       "        vertical-align: middle;\n",
       "    }\n",
       "\n",
       "    .dataframe tbody tr th {\n",
       "        vertical-align: top;\n",
       "    }\n",
       "\n",
       "    .dataframe thead th {\n",
       "        text-align: right;\n",
       "    }\n",
       "</style>\n",
       "<table border=\"1\" class=\"dataframe\">\n",
       "  <thead>\n",
       "    <tr style=\"text-align: right;\">\n",
       "      <th></th>\n",
       "      <th>contract_type_id</th>\n",
       "      <th>internet_service_type_id</th>\n",
       "      <th>payment_type_id</th>\n",
       "      <th>customer_id</th>\n",
       "      <th>gender</th>\n",
       "      <th>senior_citizen</th>\n",
       "      <th>partner</th>\n",
       "      <th>dependents</th>\n",
       "      <th>tenure</th>\n",
       "      <th>phone_service</th>\n",
       "      <th>...</th>\n",
       "      <th>tech_support</th>\n",
       "      <th>streaming_tv</th>\n",
       "      <th>streaming_movies</th>\n",
       "      <th>paperless_billing</th>\n",
       "      <th>monthly_charges</th>\n",
       "      <th>total_charges</th>\n",
       "      <th>churn</th>\n",
       "      <th>payment_type</th>\n",
       "      <th>internet_service_type</th>\n",
       "      <th>contract_type</th>\n",
       "    </tr>\n",
       "  </thead>\n",
       "  <tbody>\n",
       "    <tr>\n",
       "      <th>0</th>\n",
       "      <td>2</td>\n",
       "      <td>1</td>\n",
       "      <td>2</td>\n",
       "      <td>0002-ORFBO</td>\n",
       "      <td>Female</td>\n",
       "      <td>0</td>\n",
       "      <td>Yes</td>\n",
       "      <td>Yes</td>\n",
       "      <td>9</td>\n",
       "      <td>Yes</td>\n",
       "      <td>...</td>\n",
       "      <td>Yes</td>\n",
       "      <td>Yes</td>\n",
       "      <td>No</td>\n",
       "      <td>Yes</td>\n",
       "      <td>65.6</td>\n",
       "      <td>593.3</td>\n",
       "      <td>No</td>\n",
       "      <td>Mailed check</td>\n",
       "      <td>DSL</td>\n",
       "      <td>One year</td>\n",
       "    </tr>\n",
       "    <tr>\n",
       "      <th>1</th>\n",
       "      <td>1</td>\n",
       "      <td>1</td>\n",
       "      <td>2</td>\n",
       "      <td>0003-MKNFE</td>\n",
       "      <td>Male</td>\n",
       "      <td>0</td>\n",
       "      <td>No</td>\n",
       "      <td>No</td>\n",
       "      <td>9</td>\n",
       "      <td>Yes</td>\n",
       "      <td>...</td>\n",
       "      <td>No</td>\n",
       "      <td>No</td>\n",
       "      <td>Yes</td>\n",
       "      <td>No</td>\n",
       "      <td>59.9</td>\n",
       "      <td>542.4</td>\n",
       "      <td>No</td>\n",
       "      <td>Mailed check</td>\n",
       "      <td>DSL</td>\n",
       "      <td>Month-to-month</td>\n",
       "    </tr>\n",
       "  </tbody>\n",
       "</table>\n",
       "<p>2 rows × 24 columns</p>\n",
       "</div>"
      ],
      "text/plain": [
       "   contract_type_id  internet_service_type_id  payment_type_id customer_id  \\\n",
       "0                 2                         1                2  0002-ORFBO   \n",
       "1                 1                         1                2  0003-MKNFE   \n",
       "\n",
       "   gender  senior_citizen partner dependents  tenure phone_service  ...  \\\n",
       "0  Female               0     Yes        Yes       9           Yes  ...   \n",
       "1    Male               0      No         No       9           Yes  ...   \n",
       "\n",
       "  tech_support streaming_tv streaming_movies paperless_billing  \\\n",
       "0          Yes          Yes               No               Yes   \n",
       "1           No           No              Yes                No   \n",
       "\n",
       "  monthly_charges total_charges churn  payment_type  internet_service_type  \\\n",
       "0            65.6         593.3    No  Mailed check                    DSL   \n",
       "1            59.9         542.4    No  Mailed check                    DSL   \n",
       "\n",
       "    contract_type  \n",
       "0        One year  \n",
       "1  Month-to-month  \n",
       "\n",
       "[2 rows x 24 columns]"
      ]
     },
     "execution_count": 2,
     "metadata": {},
     "output_type": "execute_result"
    }
   ],
   "source": [
    "telco_customers = get_telco_data()\n",
    "telco_customers.head(2)"
   ]
  },
  {
   "cell_type": "markdown",
   "id": "2f2b256d-4ef1-4ef6-a601-faabef3b0080",
   "metadata": {},
   "source": [
    "---\n",
    "\n",
    "## Identify Missing Values\n",
    "\n",
    "We will first check if any missing values exist in our telco_customers dataframe."
   ]
  },
  {
   "cell_type": "code",
   "execution_count": 3,
   "id": "fd5b1178-0a46-4b8a-a398-8da4f5660a66",
   "metadata": {},
   "outputs": [
    {
     "data": {
      "text/plain": [
       "contract_type_id            0\n",
       "internet_service_type_id    0\n",
       "payment_type_id             0\n",
       "customer_id                 0\n",
       "gender                      0\n",
       "senior_citizen              0\n",
       "partner                     0\n",
       "dependents                  0\n",
       "tenure                      0\n",
       "phone_service               0\n",
       "multiple_lines              0\n",
       "online_security             0\n",
       "online_backup               0\n",
       "device_protection           0\n",
       "tech_support                0\n",
       "streaming_tv                0\n",
       "streaming_movies            0\n",
       "paperless_billing           0\n",
       "monthly_charges             0\n",
       "total_charges               0\n",
       "churn                       0\n",
       "payment_type                0\n",
       "internet_service_type       0\n",
       "contract_type               0\n",
       "dtype: int64"
      ]
     },
     "execution_count": 3,
     "metadata": {},
     "output_type": "execute_result"
    }
   ],
   "source": [
    "telco_customers.isna().sum()"
   ]
  },
  {
   "cell_type": "markdown",
   "id": "6504217b-25c8-4043-b698-43797c0f8284",
   "metadata": {},
   "source": [
    "We do not have null values so we can proceed."
   ]
  },
  {
   "cell_type": "markdown",
   "id": "65946958-11c5-4b52-b12a-19b726b948f3",
   "metadata": {},
   "source": [
    "---\n",
    "\n",
    "## Remove Duplicates\n",
    "\n",
    "We will run drop_duplicates just in case we have duplicate rows in our data."
   ]
  },
  {
   "cell_type": "code",
   "execution_count": 4,
   "id": "6549d620-a362-43e8-9527-5203f9f19a54",
   "metadata": {},
   "outputs": [
    {
     "data": {
      "text/plain": [
       "(7043, 24)"
      ]
     },
     "execution_count": 4,
     "metadata": {},
     "output_type": "execute_result"
    }
   ],
   "source": [
    "telco_customers.shape"
   ]
  },
  {
   "cell_type": "code",
   "execution_count": 5,
   "id": "7ec67f20-8bfc-4462-ba43-51e805966a88",
   "metadata": {},
   "outputs": [
    {
     "data": {
      "text/plain": [
       "(7043, 24)"
      ]
     },
     "execution_count": 5,
     "metadata": {},
     "output_type": "execute_result"
    }
   ],
   "source": [
    "telco_customers = telco_customers.drop_duplicates()\n",
    "telco_customers.shape"
   ]
  },
  {
   "cell_type": "markdown",
   "id": "3dea0044-5454-47e6-a4f8-9c3341cf41e7",
   "metadata": {},
   "source": [
    "It appears we did not have any duplicated rows."
   ]
  },
  {
   "cell_type": "markdown",
   "id": "46b1dabe-3967-4516-95c5-63d9a1bf0473",
   "metadata": {},
   "source": [
    "---\n",
    "\n",
    "## Identify Useless/Redundant Features\n",
    "\n",
    "Next we want to identify any columns that will undoubtedly not be useful to us. This can include unique identifiers since this is no different than an index or duplicate columns such as foreign key columns. We'll simply look at our columns and make a judgement call to determine which columns can be removed."
   ]
  },
  {
   "cell_type": "code",
   "execution_count": 6,
   "id": "fba6ca5a-f8f6-4a8f-a021-3c41a4b40c6c",
   "metadata": {},
   "outputs": [
    {
     "name": "stdout",
     "output_type": "stream",
     "text": [
      "<class 'pandas.core.frame.DataFrame'>\n",
      "Int64Index: 7043 entries, 0 to 7042\n",
      "Data columns (total 24 columns):\n",
      " #   Column                    Non-Null Count  Dtype  \n",
      "---  ------                    --------------  -----  \n",
      " 0   contract_type_id          7043 non-null   int64  \n",
      " 1   internet_service_type_id  7043 non-null   int64  \n",
      " 2   payment_type_id           7043 non-null   int64  \n",
      " 3   customer_id               7043 non-null   object \n",
      " 4   gender                    7043 non-null   object \n",
      " 5   senior_citizen            7043 non-null   int64  \n",
      " 6   partner                   7043 non-null   object \n",
      " 7   dependents                7043 non-null   object \n",
      " 8   tenure                    7043 non-null   int64  \n",
      " 9   phone_service             7043 non-null   object \n",
      " 10  multiple_lines            7043 non-null   object \n",
      " 11  online_security           7043 non-null   object \n",
      " 12  online_backup             7043 non-null   object \n",
      " 13  device_protection         7043 non-null   object \n",
      " 14  tech_support              7043 non-null   object \n",
      " 15  streaming_tv              7043 non-null   object \n",
      " 16  streaming_movies          7043 non-null   object \n",
      " 17  paperless_billing         7043 non-null   object \n",
      " 18  monthly_charges           7043 non-null   float64\n",
      " 19  total_charges             7043 non-null   object \n",
      " 20  churn                     7043 non-null   object \n",
      " 21  payment_type              7043 non-null   object \n",
      " 22  internet_service_type     7043 non-null   object \n",
      " 23  contract_type             7043 non-null   object \n",
      "dtypes: float64(1), int64(5), object(18)\n",
      "memory usage: 1.3+ MB\n"
     ]
    }
   ],
   "source": [
    "telco_customers.info()"
   ]
  },
  {
   "cell_type": "markdown",
   "id": "ed17a5ac-fc6e-4392-a478-7812b122537a",
   "metadata": {},
   "source": [
    "The columns contract_type_id and contract_type might be the same. Let's look at the values in these columns."
   ]
  },
  {
   "cell_type": "code",
   "execution_count": 7,
   "id": "fbc36767-bb44-4246-99bb-9856ed6db811",
   "metadata": {},
   "outputs": [
    {
     "data": {
      "text/plain": [
       "contract_type_id  contract_type \n",
       "1                 Month-to-month    3875\n",
       "3                 Two year          1695\n",
       "2                 One year          1473\n",
       "dtype: int64"
      ]
     },
     "execution_count": 7,
     "metadata": {},
     "output_type": "execute_result"
    }
   ],
   "source": [
    "columns = ['contract_type_id', 'contract_type']\n",
    "telco_customers[columns].value_counts()"
   ]
  },
  {
   "cell_type": "markdown",
   "id": "6c423814-cd6b-49a0-9905-7cc68335ad0f",
   "metadata": {},
   "source": [
    "This indeed looks like contract_type_id was a foreign key. We will keep contract_type since this is a more readable column.\n",
    "\n",
    "Next let's look at internet_service_type_id and internet_service_type since this may be a similar situation."
   ]
  },
  {
   "cell_type": "code",
   "execution_count": 8,
   "id": "89de85fa-f76a-4fba-b33d-9719fc9745bb",
   "metadata": {},
   "outputs": [
    {
     "data": {
      "text/plain": [
       "internet_service_type_id  internet_service_type\n",
       "2                         Fiber optic              3096\n",
       "1                         DSL                      2421\n",
       "3                         None                     1526\n",
       "dtype: int64"
      ]
     },
     "execution_count": 8,
     "metadata": {},
     "output_type": "execute_result"
    }
   ],
   "source": [
    "columns = ['internet_service_type_id', 'internet_service_type']\n",
    "telco_customers[columns].value_counts()"
   ]
  },
  {
   "cell_type": "markdown",
   "id": "0194a711-045b-4165-97da-8009fb1f876d",
   "metadata": {},
   "source": [
    "internet_service_type_id is another foreign key columns. We'll keep internet_service_type.\n",
    "\n",
    "Finally, let's take a look at payment_type_id and payment_type."
   ]
  },
  {
   "cell_type": "code",
   "execution_count": 9,
   "id": "63930e39-2e7d-4113-9eb1-593b216862d3",
   "metadata": {},
   "outputs": [
    {
     "data": {
      "text/plain": [
       "payment_type_id  payment_type             \n",
       "1                Electronic check             2365\n",
       "2                Mailed check                 1612\n",
       "3                Bank transfer (automatic)    1544\n",
       "4                Credit card (automatic)      1522\n",
       "dtype: int64"
      ]
     },
     "execution_count": 9,
     "metadata": {},
     "output_type": "execute_result"
    }
   ],
   "source": [
    "columns = ['payment_type_id', 'payment_type']\n",
    "telco_customers[columns].value_counts()"
   ]
  },
  {
   "cell_type": "markdown",
   "id": "c6bedd8a-6d21-41e4-b264-9ecb0d4cdef8",
   "metadata": {},
   "source": [
    "Another foreign key column. We'll keep payment_type.\n",
    "\n",
    "customer_id is probably a unique identifier. Let's take a look."
   ]
  },
  {
   "cell_type": "code",
   "execution_count": 10,
   "id": "ba60ec41-e60f-45e6-bbb3-756ec9502cac",
   "metadata": {},
   "outputs": [
    {
     "data": {
      "text/plain": [
       "0    0002-ORFBO\n",
       "1    0003-MKNFE\n",
       "2    0004-TLHLJ\n",
       "Name: customer_id, dtype: object"
      ]
     },
     "execution_count": 10,
     "metadata": {},
     "output_type": "execute_result"
    }
   ],
   "source": [
    "telco_customers['customer_id'].head(3)"
   ]
  },
  {
   "cell_type": "code",
   "execution_count": 11,
   "id": "26811847-7d0b-4bc4-8167-0c186ebf53a8",
   "metadata": {},
   "outputs": [
    {
     "data": {
      "text/plain": [
       "True"
      ]
     },
     "execution_count": 11,
     "metadata": {},
     "output_type": "execute_result"
    }
   ],
   "source": [
    "telco_customers['customer_id'].nunique() == telco_customers.shape[0]"
   ]
  },
  {
   "cell_type": "markdown",
   "id": "b419dcaf-0017-4900-9833-6938db8ba415",
   "metadata": {},
   "source": [
    "Since the total number of unique values in customer_id matches the total number of rows in the dataframe and the values don't look to be meaningful in any other way we can conclude that this is a unique identifier and will not have any influence over customer churn.\n",
    "\n",
    "Now we will drop these columns."
   ]
  },
  {
   "cell_type": "code",
   "execution_count": 12,
   "id": "ac09b8a6-23f1-4200-8358-b314326aea5d",
   "metadata": {},
   "outputs": [
    {
     "name": "stdout",
     "output_type": "stream",
     "text": [
      "<class 'pandas.core.frame.DataFrame'>\n",
      "Int64Index: 7043 entries, 0 to 7042\n",
      "Data columns (total 20 columns):\n",
      " #   Column                 Non-Null Count  Dtype  \n",
      "---  ------                 --------------  -----  \n",
      " 0   gender                 7043 non-null   object \n",
      " 1   senior_citizen         7043 non-null   int64  \n",
      " 2   partner                7043 non-null   object \n",
      " 3   dependents             7043 non-null   object \n",
      " 4   tenure                 7043 non-null   int64  \n",
      " 5   phone_service          7043 non-null   object \n",
      " 6   multiple_lines         7043 non-null   object \n",
      " 7   online_security        7043 non-null   object \n",
      " 8   online_backup          7043 non-null   object \n",
      " 9   device_protection      7043 non-null   object \n",
      " 10  tech_support           7043 non-null   object \n",
      " 11  streaming_tv           7043 non-null   object \n",
      " 12  streaming_movies       7043 non-null   object \n",
      " 13  paperless_billing      7043 non-null   object \n",
      " 14  monthly_charges        7043 non-null   float64\n",
      " 15  total_charges          7043 non-null   object \n",
      " 16  churn                  7043 non-null   object \n",
      " 17  payment_type           7043 non-null   object \n",
      " 18  internet_service_type  7043 non-null   object \n",
      " 19  contract_type          7043 non-null   object \n",
      "dtypes: float64(1), int64(2), object(17)\n",
      "memory usage: 1.1+ MB\n"
     ]
    }
   ],
   "source": [
    "columns_to_drop = [\n",
    "    'customer_id',\n",
    "    'contract_type_id',\n",
    "    'internet_service_type_id',\n",
    "    'payment_type_id'\n",
    "]\n",
    "\n",
    "telco_customers = telco_customers.drop(columns = columns_to_drop)\n",
    "\n",
    "# Let's make sure it worked\n",
    "telco_customers.info()"
   ]
  },
  {
   "cell_type": "markdown",
   "id": "ae4b752b-dcb3-4710-902a-ed4ce30d4732",
   "metadata": {},
   "source": [
    "---\n",
    "\n",
    "## Check Other Features for Unusual Values\n",
    "\n",
    "Now we will check our remaining columns to determine if there are any unusual values or values that are redundant."
   ]
  },
  {
   "cell_type": "code",
   "execution_count": 13,
   "id": "eca5850c-78ba-4d4f-a2cc-74b89aceb0ff",
   "metadata": {},
   "outputs": [
    {
     "name": "stdout",
     "output_type": "stream",
     "text": [
      "Female    3488\n",
      "Male      3555\n",
      "Name: gender, dtype: int64\n",
      "----------\n",
      "0    5901\n",
      "1    1142\n",
      "Name: senior_citizen, dtype: int64\n",
      "----------\n",
      "No     3641\n",
      "Yes    3402\n",
      "Name: partner, dtype: int64\n",
      "----------\n",
      "No     4933\n",
      "Yes    2110\n",
      "Name: dependents, dtype: int64\n",
      "----------\n",
      "0      11\n",
      "1     613\n",
      "2     238\n",
      "3     200\n",
      "4     176\n",
      "     ... \n",
      "68    100\n",
      "69     95\n",
      "70    119\n",
      "71    170\n",
      "72    362\n",
      "Name: tenure, Length: 73, dtype: int64\n",
      "----------\n",
      "No      682\n",
      "Yes    6361\n",
      "Name: phone_service, dtype: int64\n",
      "----------\n",
      "No                  3390\n",
      "No phone service     682\n",
      "Yes                 2971\n",
      "Name: multiple_lines, dtype: int64\n",
      "----------\n",
      "No                     3498\n",
      "No internet service    1526\n",
      "Yes                    2019\n",
      "Name: online_security, dtype: int64\n",
      "----------\n",
      "No                     3088\n",
      "No internet service    1526\n",
      "Yes                    2429\n",
      "Name: online_backup, dtype: int64\n",
      "----------\n",
      "No                     3095\n",
      "No internet service    1526\n",
      "Yes                    2422\n",
      "Name: device_protection, dtype: int64\n",
      "----------\n",
      "No                     3473\n",
      "No internet service    1526\n",
      "Yes                    2044\n",
      "Name: tech_support, dtype: int64\n",
      "----------\n",
      "No                     2810\n",
      "No internet service    1526\n",
      "Yes                    2707\n",
      "Name: streaming_tv, dtype: int64\n",
      "----------\n",
      "No                     2785\n",
      "No internet service    1526\n",
      "Yes                    2732\n",
      "Name: streaming_movies, dtype: int64\n",
      "----------\n",
      "No     2872\n",
      "Yes    4171\n",
      "Name: paperless_billing, dtype: int64\n",
      "----------\n",
      "18.25     1\n",
      "18.40     1\n",
      "18.55     1\n",
      "18.70     2\n",
      "18.75     1\n",
      "         ..\n",
      "118.20    1\n",
      "118.35    1\n",
      "118.60    2\n",
      "118.65    1\n",
      "118.75    1\n",
      "Name: monthly_charges, Length: 1585, dtype: int64\n",
      "----------\n",
      "          11\n",
      "100.2      1\n",
      "100.25     1\n",
      "100.35     1\n",
      "100.4      1\n",
      "          ..\n",
      "997.75     1\n",
      "998.1      1\n",
      "999.45     1\n",
      "999.8      1\n",
      "999.9      1\n",
      "Name: total_charges, Length: 6531, dtype: int64\n",
      "----------\n",
      "No     5174\n",
      "Yes    1869\n",
      "Name: churn, dtype: int64\n",
      "----------\n",
      "Bank transfer (automatic)    1544\n",
      "Credit card (automatic)      1522\n",
      "Electronic check             2365\n",
      "Mailed check                 1612\n",
      "Name: payment_type, dtype: int64\n",
      "----------\n",
      "DSL            2421\n",
      "Fiber optic    3096\n",
      "None           1526\n",
      "Name: internet_service_type, dtype: int64\n",
      "----------\n",
      "Month-to-month    3875\n",
      "One year          1473\n",
      "Two year          1695\n",
      "Name: contract_type, dtype: int64\n",
      "----------\n"
     ]
    }
   ],
   "source": [
    "# for each column print a list of unique values\n",
    "# we will sort the values by index so we can see the head and tail of each column\n",
    "for column in telco_customers.columns:\n",
    "    print(telco_customers[column].value_counts().sort_index(), end = '\\n----------\\n')"
   ]
  },
  {
   "cell_type": "markdown",
   "id": "e59edb7d-0789-44e3-92a8-842496899ed3",
   "metadata": {},
   "source": [
    "- We see a few customers with 0 tenure that will likely not be useful to us since they have not had a chance to churn. \n",
    "- There are a lot of columns that have values for no and no service. These can probably be combined into a single no value.\n",
    "- The total_charges column appears to have some hidden missing values. There are only 11 so we can drop these rows. Dropping these rows is unlikely to affect our results. These may be related to the 0 tenure customers.\n",
    "\n",
    "Let's remove the 0 tenure customers and see if this takes care of the missing values in total_charges."
   ]
  },
  {
   "cell_type": "code",
   "execution_count": 14,
   "id": "73cbad3d-424a-43c6-bf22-d4347f533466",
   "metadata": {},
   "outputs": [
    {
     "data": {
      "text/plain": [
       "7032"
      ]
     },
     "execution_count": 14,
     "metadata": {},
     "output_type": "execute_result"
    }
   ],
   "source": [
    "# This should remove 11 rows leaving us with 7032 rows\n",
    "\n",
    "does_not_have_zero_tenure = telco_customers.tenure != 0\n",
    "telco_customers = telco_customers[does_not_have_zero_tenure]\n",
    "telco_customers.shape[0]"
   ]
  },
  {
   "cell_type": "code",
   "execution_count": 15,
   "id": "a9d4ec7d-9bd7-4fd9-87df-259a2515037e",
   "metadata": {},
   "outputs": [
    {
     "data": {
      "text/plain": [
       "4386     100.2\n",
       "2222    100.25\n",
       "1771    100.35\n",
       "5542     100.4\n",
       "5126     100.8\n",
       "Name: total_charges, dtype: object"
      ]
     },
     "execution_count": 15,
     "metadata": {},
     "output_type": "execute_result"
    }
   ],
   "source": [
    "# Now let's check the total_charges column\n",
    "\n",
    "telco_customers.total_charges.sort_values().head()"
   ]
  },
  {
   "cell_type": "markdown",
   "id": "99ccff92-0cdb-48ec-bd67-87607b994e3d",
   "metadata": {},
   "source": [
    "Now that total_charges consists of only numeric values we can cast the column to a float type."
   ]
  },
  {
   "cell_type": "code",
   "execution_count": 16,
   "id": "16cc7043-db97-4d70-b227-cb35439b9397",
   "metadata": {},
   "outputs": [
    {
     "data": {
      "text/plain": [
       "dtype('float64')"
      ]
     },
     "execution_count": 16,
     "metadata": {},
     "output_type": "execute_result"
    }
   ],
   "source": [
    "telco_customers.total_charges = telco_customers.total_charges.astype('float')\n",
    "telco_customers.total_charges.dtypes"
   ]
  },
  {
   "cell_type": "markdown",
   "id": "8a03a7d9-c3f8-4555-a7e2-8e61a124a889",
   "metadata": {},
   "source": [
    "That took care of the missing values in total_charges. Next let's handle those redundant values. The columns multiple_lines, online_security, online_backup, device_protection, tech_support, streaming_tv, and streaming_movies all have to \"No\" values. We will combine these values so that there is only a value for \"Yes\" and a value for \"No\"."
   ]
  },
  {
   "cell_type": "code",
   "execution_count": 17,
   "id": "50110ec0-3ba7-45df-ba44-61c6726c6d6c",
   "metadata": {},
   "outputs": [],
   "source": [
    "# We're going to need numpy.where to help with this\n",
    "import numpy as np"
   ]
  },
  {
   "cell_type": "code",
   "execution_count": 18,
   "id": "cb66f93c-50bb-4bd2-8a0e-709b789186db",
   "metadata": {},
   "outputs": [
    {
     "name": "stdout",
     "output_type": "stream",
     "text": [
      "No     4065\n",
      "Yes    2967\n",
      "Name: multiple_lines, dtype: int64\n",
      "----------\n",
      "No     5017\n",
      "Yes    2015\n",
      "Name: online_security, dtype: int64\n",
      "----------\n",
      "No     4607\n",
      "Yes    2425\n",
      "Name: online_backup, dtype: int64\n",
      "----------\n",
      "No     4614\n",
      "Yes    2418\n",
      "Name: device_protection, dtype: int64\n",
      "----------\n",
      "No     4992\n",
      "Yes    2040\n",
      "Name: tech_support, dtype: int64\n",
      "----------\n",
      "No     4329\n",
      "Yes    2703\n",
      "Name: streaming_tv, dtype: int64\n",
      "----------\n",
      "No     4301\n",
      "Yes    2731\n",
      "Name: streaming_movies, dtype: int64\n",
      "----------\n"
     ]
    }
   ],
   "source": [
    "columns = [\n",
    "    'multiple_lines',\n",
    "    'online_security',\n",
    "    'online_backup',\n",
    "    'device_protection',\n",
    "    'tech_support',\n",
    "    'streaming_tv',\n",
    "    'streaming_movies'\n",
    "]\n",
    "\n",
    "for column in columns:\n",
    "    telco_customers[column] = np.where(telco_customers[column] == 'Yes', 'Yes', 'No')\n",
    "    \n",
    "# Let's verify that it worked\n",
    "for column in columns:\n",
    "    print(telco_customers[column].value_counts(), end = '\\n----------\\n')"
   ]
  },
  {
   "cell_type": "markdown",
   "id": "a62468b0-342c-4499-87cf-2dd179c8ef37",
   "metadata": {},
   "source": [
    "---\n",
    "\n",
    "## Encode Non Numeric Features\n",
    "\n",
    "Lastly we need to encode all of our non numeric features into numeric columns so that we can use them with our machine learning models. We will use pandas to help us with this."
   ]
  },
  {
   "cell_type": "code",
   "execution_count": 19,
   "id": "538facda-0418-4057-b620-fad34c561d5e",
   "metadata": {},
   "outputs": [
    {
     "name": "stdout",
     "output_type": "stream",
     "text": [
      "<class 'pandas.core.frame.DataFrame'>\n",
      "Int64Index: 7032 entries, 0 to 7042\n",
      "Data columns (total 40 columns):\n",
      " #   Column                                Non-Null Count  Dtype  \n",
      "---  ------                                --------------  -----  \n",
      " 0   gender                                7032 non-null   object \n",
      " 1   senior_citizen                        7032 non-null   int64  \n",
      " 2   partner                               7032 non-null   object \n",
      " 3   dependents                            7032 non-null   object \n",
      " 4   tenure                                7032 non-null   int64  \n",
      " 5   phone_service                         7032 non-null   object \n",
      " 6   multiple_lines                        7032 non-null   object \n",
      " 7   online_security                       7032 non-null   object \n",
      " 8   online_backup                         7032 non-null   object \n",
      " 9   device_protection                     7032 non-null   object \n",
      " 10  tech_support                          7032 non-null   object \n",
      " 11  streaming_tv                          7032 non-null   object \n",
      " 12  streaming_movies                      7032 non-null   object \n",
      " 13  paperless_billing                     7032 non-null   object \n",
      " 14  monthly_charges                       7032 non-null   float64\n",
      " 15  total_charges                         7032 non-null   float64\n",
      " 16  churn                                 7032 non-null   object \n",
      " 17  payment_type                          7032 non-null   object \n",
      " 18  internet_service_type                 7032 non-null   object \n",
      " 19  contract_type                         7032 non-null   object \n",
      " 20  gender_Male                           7032 non-null   uint8  \n",
      " 21  partner_Yes                           7032 non-null   uint8  \n",
      " 22  dependents_Yes                        7032 non-null   uint8  \n",
      " 23  phone_service_Yes                     7032 non-null   uint8  \n",
      " 24  multiple_lines_Yes                    7032 non-null   uint8  \n",
      " 25  online_security_Yes                   7032 non-null   uint8  \n",
      " 26  online_backup_Yes                     7032 non-null   uint8  \n",
      " 27  device_protection_Yes                 7032 non-null   uint8  \n",
      " 28  tech_support_Yes                      7032 non-null   uint8  \n",
      " 29  streaming_tv_Yes                      7032 non-null   uint8  \n",
      " 30  streaming_movies_Yes                  7032 non-null   uint8  \n",
      " 31  paperless_billing_Yes                 7032 non-null   uint8  \n",
      " 32  churn_Yes                             7032 non-null   uint8  \n",
      " 33  payment_type_Credit card (automatic)  7032 non-null   uint8  \n",
      " 34  payment_type_Electronic check         7032 non-null   uint8  \n",
      " 35  payment_type_Mailed check             7032 non-null   uint8  \n",
      " 36  internet_service_type_Fiber optic     7032 non-null   uint8  \n",
      " 37  internet_service_type_None            7032 non-null   uint8  \n",
      " 38  contract_type_One year                7032 non-null   uint8  \n",
      " 39  contract_type_Two year                7032 non-null   uint8  \n",
      "dtypes: float64(2), int64(2), object(16), uint8(20)\n",
      "memory usage: 1.3+ MB\n"
     ]
    }
   ],
   "source": [
    "# We only need non numeric categorical features\n",
    "categorical_cols = telco_customers.dtypes[telco_customers.dtypes == 'object'].index\n",
    "\n",
    "# pandas' get_dummies function will encode these features for us\n",
    "dummy_df = pd.get_dummies(telco_customers[categorical_cols], dummy_na = False, drop_first = True)\n",
    "telco_customers = pd.concat([telco_customers, dummy_df], axis = 1)\n",
    "\n",
    "# Let's see if it worked\n",
    "telco_customers.info()"
   ]
  },
  {
   "cell_type": "markdown",
   "id": "69e4ba44-2c76-4d5f-99e8-6d9cc7275579",
   "metadata": {},
   "source": [
    "Let's just clean up some of those feature names before we conclude."
   ]
  },
  {
   "cell_type": "code",
   "execution_count": 20,
   "id": "84a56828-525c-43a0-a767-0ac6afa16027",
   "metadata": {},
   "outputs": [
    {
     "name": "stdout",
     "output_type": "stream",
     "text": [
      "<class 'pandas.core.frame.DataFrame'>\n",
      "Int64Index: 7032 entries, 0 to 7042\n",
      "Data columns (total 40 columns):\n",
      " #   Column                              Non-Null Count  Dtype  \n",
      "---  ------                              --------------  -----  \n",
      " 0   gender                              7032 non-null   object \n",
      " 1   senior_citizen                      7032 non-null   int64  \n",
      " 2   partner                             7032 non-null   object \n",
      " 3   dependents                          7032 non-null   object \n",
      " 4   tenure                              7032 non-null   int64  \n",
      " 5   phone_service                       7032 non-null   object \n",
      " 6   multiple_lines                      7032 non-null   object \n",
      " 7   online_security                     7032 non-null   object \n",
      " 8   online_backup                       7032 non-null   object \n",
      " 9   device_protection                   7032 non-null   object \n",
      " 10  tech_support                        7032 non-null   object \n",
      " 11  streaming_tv                        7032 non-null   object \n",
      " 12  streaming_movies                    7032 non-null   object \n",
      " 13  paperless_billing                   7032 non-null   object \n",
      " 14  monthly_charges                     7032 non-null   float64\n",
      " 15  total_charges                       7032 non-null   float64\n",
      " 16  churn                               7032 non-null   object \n",
      " 17  payment_type                        7032 non-null   object \n",
      " 18  internet_service_type               7032 non-null   object \n",
      " 19  contract_type                       7032 non-null   object \n",
      " 20  gender_male                         7032 non-null   uint8  \n",
      " 21  partner_yes                         7032 non-null   uint8  \n",
      " 22  dependents_yes                      7032 non-null   uint8  \n",
      " 23  phone_service_yes                   7032 non-null   uint8  \n",
      " 24  multiple_lines_yes                  7032 non-null   uint8  \n",
      " 25  online_security_yes                 7032 non-null   uint8  \n",
      " 26  online_backup_yes                   7032 non-null   uint8  \n",
      " 27  device_protection_yes               7032 non-null   uint8  \n",
      " 28  tech_support_yes                    7032 non-null   uint8  \n",
      " 29  streaming_tv_yes                    7032 non-null   uint8  \n",
      " 30  streaming_movies_yes                7032 non-null   uint8  \n",
      " 31  paperless_billing_yes               7032 non-null   uint8  \n",
      " 32  churn_yes                           7032 non-null   uint8  \n",
      " 33  payment_type_credit_card_automatic  7032 non-null   uint8  \n",
      " 34  payment_type_electronic_check       7032 non-null   uint8  \n",
      " 35  payment_type_mailed_check           7032 non-null   uint8  \n",
      " 36  internet_service_type_fiber_optic   7032 non-null   uint8  \n",
      " 37  internet_service_type_none          7032 non-null   uint8  \n",
      " 38  contract_type_one_year              7032 non-null   uint8  \n",
      " 39  contract_type_two_year              7032 non-null   uint8  \n",
      "dtypes: float64(2), int64(2), object(16), uint8(20)\n",
      "memory usage: 1.3+ MB\n"
     ]
    }
   ],
   "source": [
    "telco_customers.columns = telco_customers.columns.str.replace(' ', '_', regex = False).str.lower()\n",
    "telco_customers.columns = telco_customers.columns.str.replace('\\(|\\)', '', regex = True)\n",
    "telco_customers.info()"
   ]
  },
  {
   "cell_type": "markdown",
   "id": "5d2fcec7-2158-4e37-b44f-9abaf555163b",
   "metadata": {},
   "source": [
    "---\n",
    "\n",
    "## Create the Function\n",
    "\n",
    "Now let's put it all in a function."
   ]
  },
  {
   "cell_type": "code",
   "execution_count": 21,
   "id": "2920f8b1-71b6-4be7-8a1b-8cf3722e971f",
   "metadata": {},
   "outputs": [],
   "source": [
    "def prep_telco_data(df):\n",
    "    df = df.drop_duplicates()\n",
    "\n",
    "    cols_to_drop = [\n",
    "        'customer_id',\n",
    "        'contract_type_id',\n",
    "        'internet_service_type_id',\n",
    "        'payment_type_id'\n",
    "    ]\n",
    "    df = df.drop(columns = cols_to_drop)\n",
    "\n",
    "    does_not_have_zero_tenure = df.tenure != 0\n",
    "    df = df[does_not_have_zero_tenure]\n",
    "    df.total_charges = df.total_charges.astype('float')\n",
    "\n",
    "    columns = [\n",
    "        'multiple_lines',\n",
    "        'online_security',\n",
    "        'online_backup',\n",
    "        'device_protection',\n",
    "        'tech_support',\n",
    "        'streaming_tv',\n",
    "        'streaming_movies'\n",
    "    ]\n",
    "\n",
    "    for column in columns:\n",
    "        df[column] = np.where(df[column] == 'Yes', 'Yes', 'No')\n",
    "\n",
    "    categorical_cols = df.dtypes[df.dtypes == 'object'].index\n",
    "\n",
    "    dummy_df = pd.get_dummies(df[categorical_cols], dummy_na = False, drop_first = True)\n",
    "    df = pd.concat([df, dummy_df], axis = 1)\n",
    "\n",
    "    df.columns = df.columns.str.replace(' ', '_', regex = False).str.lower()\n",
    "    df.columns = df.columns.str.replace('\\(|\\)', '', regex = True)\n",
    "\n",
    "    return df"
   ]
  },
  {
   "cell_type": "markdown",
   "id": "00abc84c-bf1b-47f2-b428-7f1ad0981ae9",
   "metadata": {},
   "source": [
    "Let's test it to make sure it works."
   ]
  },
  {
   "cell_type": "code",
   "execution_count": 22,
   "id": "fa303e98-2929-492c-9d4c-d0c2b09b3ad4",
   "metadata": {},
   "outputs": [
    {
     "name": "stdout",
     "output_type": "stream",
     "text": [
      "Using cache\n",
      "<class 'pandas.core.frame.DataFrame'>\n",
      "Int64Index: 7032 entries, 0 to 7042\n",
      "Data columns (total 40 columns):\n",
      " #   Column                              Non-Null Count  Dtype  \n",
      "---  ------                              --------------  -----  \n",
      " 0   gender                              7032 non-null   object \n",
      " 1   senior_citizen                      7032 non-null   int64  \n",
      " 2   partner                             7032 non-null   object \n",
      " 3   dependents                          7032 non-null   object \n",
      " 4   tenure                              7032 non-null   int64  \n",
      " 5   phone_service                       7032 non-null   object \n",
      " 6   multiple_lines                      7032 non-null   object \n",
      " 7   online_security                     7032 non-null   object \n",
      " 8   online_backup                       7032 non-null   object \n",
      " 9   device_protection                   7032 non-null   object \n",
      " 10  tech_support                        7032 non-null   object \n",
      " 11  streaming_tv                        7032 non-null   object \n",
      " 12  streaming_movies                    7032 non-null   object \n",
      " 13  paperless_billing                   7032 non-null   object \n",
      " 14  monthly_charges                     7032 non-null   float64\n",
      " 15  total_charges                       7032 non-null   float64\n",
      " 16  churn                               7032 non-null   object \n",
      " 17  payment_type                        7032 non-null   object \n",
      " 18  internet_service_type               7032 non-null   object \n",
      " 19  contract_type                       7032 non-null   object \n",
      " 20  gender_male                         7032 non-null   uint8  \n",
      " 21  partner_yes                         7032 non-null   uint8  \n",
      " 22  dependents_yes                      7032 non-null   uint8  \n",
      " 23  phone_service_yes                   7032 non-null   uint8  \n",
      " 24  multiple_lines_yes                  7032 non-null   uint8  \n",
      " 25  online_security_yes                 7032 non-null   uint8  \n",
      " 26  online_backup_yes                   7032 non-null   uint8  \n",
      " 27  device_protection_yes               7032 non-null   uint8  \n",
      " 28  tech_support_yes                    7032 non-null   uint8  \n",
      " 29  streaming_tv_yes                    7032 non-null   uint8  \n",
      " 30  streaming_movies_yes                7032 non-null   uint8  \n",
      " 31  paperless_billing_yes               7032 non-null   uint8  \n",
      " 32  churn_yes                           7032 non-null   uint8  \n",
      " 33  payment_type_credit_card_automatic  7032 non-null   uint8  \n",
      " 34  payment_type_electronic_check       7032 non-null   uint8  \n",
      " 35  payment_type_mailed_check           7032 non-null   uint8  \n",
      " 36  internet_service_type_fiber_optic   7032 non-null   uint8  \n",
      " 37  internet_service_type_none          7032 non-null   uint8  \n",
      " 38  contract_type_one_year              7032 non-null   uint8  \n",
      " 39  contract_type_two_year              7032 non-null   uint8  \n",
      "dtypes: float64(2), int64(2), object(16), uint8(20)\n",
      "memory usage: 1.3+ MB\n"
     ]
    }
   ],
   "source": [
    "prep_telco_data(get_telco_data()).info()"
   ]
  },
  {
   "cell_type": "markdown",
   "id": "90b233d3-e962-4d9b-8c7f-3987350506be",
   "metadata": {},
   "source": [
    "---\n",
    "\n",
    "## Split the Data\n",
    "\n",
    "Now that we have our prepare function ready we need to create a function to split the data for us. We need to split the data into train, validate, and test datasets. We will first make an 80/20 split to get a test dataset that is 20% of our original data. Then with the other 80% we will make a 70/30 split where the train dataset will be 70% and the validate dataset will be 30%. We can use sklearn to help with this."
   ]
  },
  {
   "cell_type": "code",
   "execution_count": 23,
   "id": "5187ae24-1c73-46f2-bf29-9a6256082f43",
   "metadata": {},
   "outputs": [
    {
     "data": {
      "text/plain": [
       "((3937, 40), (1688, 40), (1407, 40))"
      ]
     },
     "execution_count": 23,
     "metadata": {},
     "output_type": "execute_result"
    }
   ],
   "source": [
    "from sklearn.model_selection import train_test_split\n",
    "\n",
    "# We will use a random seed of 24 for reproducability\n",
    "seed = 24\n",
    "\n",
    "# Here we do our 80/20 split\n",
    "train_validate, test = train_test_split(\n",
    "    telco_customers,\n",
    "    test_size = 0.2,\n",
    "    random_state = seed,\n",
    "    stratify = telco_customers['churn']\n",
    ")\n",
    "\n",
    "# Next we do our 70/30 split\n",
    "train, validate = train_test_split(\n",
    "    train_validate,\n",
    "    test_size = 0.3,\n",
    "    random_state = seed,\n",
    "    stratify = train_validate['churn']\n",
    ")\n",
    "train.shape, validate.shape, test.shape"
   ]
  },
  {
   "cell_type": "markdown",
   "id": "0315b6ca-3d11-4fb9-bf08-ee817aec3cb3",
   "metadata": {},
   "source": [
    "We will put this in a function for our convenience."
   ]
  },
  {
   "cell_type": "code",
   "execution_count": 24,
   "id": "330edfad-9581-48d0-a534-6b5775ea8235",
   "metadata": {},
   "outputs": [],
   "source": [
    "def split_data(df, stratify, random_seed = 24):\n",
    "    test_split = 0.2\n",
    "    train_validate_split = 0.3\n",
    "\n",
    "    train_validate, test = train_test_split(\n",
    "        df,\n",
    "        test_size = test_split,\n",
    "        random_state = random_seed,\n",
    "        stratify = df[stratify]\n",
    "    )\n",
    "    \n",
    "    train, validate = train_test_split(\n",
    "        train_validate,\n",
    "        test_size = train_validate_split,\n",
    "        random_state = random_seed,\n",
    "        stratify = train_validate[stratify]\n",
    "    )\n",
    "    return train, validate, test"
   ]
  },
  {
   "cell_type": "markdown",
   "id": "38be6fea-1bdb-431a-ab25-fbf6e2f47d4f",
   "metadata": {},
   "source": [
    "Let's test it to make sure it works."
   ]
  },
  {
   "cell_type": "code",
   "execution_count": 25,
   "id": "85521146-b591-45b3-b4de-6132ec7d7eec",
   "metadata": {},
   "outputs": [
    {
     "data": {
      "text/plain": [
       "((3937, 40), (1688, 40), (1407, 40))"
      ]
     },
     "execution_count": 25,
     "metadata": {},
     "output_type": "execute_result"
    }
   ],
   "source": [
    "train, validate, test = split_data(telco_customers, 'churn')\n",
    "train.shape, validate.shape, test.shape"
   ]
  },
  {
   "cell_type": "markdown",
   "id": "cc553b4e-ec8c-4459-966e-b4294c23c730",
   "metadata": {},
   "source": [
    "---\n",
    "\n",
    "## Conclusion\n",
    "\n",
    "With the prep_telco_data() and split_data() functions we can now easily prepare and split our data for exploratory analysis and modeling.\n",
    "\n",
    "**It is important that from this point on we will only work with our train dataset. We will not use validate until we get to modeling and we will not use test until we have selected our best model.**"
   ]
  }
 ],
 "metadata": {
  "kernelspec": {
   "display_name": "Python 3 (ipykernel)",
   "language": "python",
   "name": "python3"
  },
  "language_info": {
   "codemirror_mode": {
    "name": "ipython",
    "version": 3
   },
   "file_extension": ".py",
   "mimetype": "text/x-python",
   "name": "python",
   "nbconvert_exporter": "python",
   "pygments_lexer": "ipython3",
   "version": "3.9.7"
  }
 },
 "nbformat": 4,
 "nbformat_minor": 5
}
